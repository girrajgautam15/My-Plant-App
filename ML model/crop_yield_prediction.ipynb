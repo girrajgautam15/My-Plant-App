{
  "nbformat": 4,
  "nbformat_minor": 0,
  "metadata": {
    "colab": {
      "provenance": []
    },
    "kernelspec": {
      "name": "python3",
      "display_name": "Python 3"
    },
    "language_info": {
      "name": "python"
    }
  },
  "cells": [
    {
      "cell_type": "markdown",
      "source": [
        "CROP YIELD PREDICTION\n"
      ],
      "metadata": {
        "id": "UmNvdM5qLEOZ"
      }
    },
    {
      "cell_type": "markdown",
      "source": [
        "DATA SET 1 Reading"
      ],
      "metadata": {
        "id": "4jOsYOY_LH73"
      }
    },
    {
      "cell_type": "code",
      "source": [
        "import pandas as pd\n",
        "df = pd.read_csv('finalised_dataset.csv',na_values='=')\n",
        "df"
      ],
      "metadata": {
        "id": "U3rSm5GALJO0"
      },
      "execution_count": null,
      "outputs": []
    },
    {
      "cell_type": "code",
      "source": [
        "df=df.drop('Yield', axis = 1)"
      ],
      "metadata": {
        "id": "24dilaz-LM1b"
      },
      "execution_count": null,
      "outputs": []
    },
    {
      "cell_type": "markdown",
      "source": [
        "DATA FRAME INFORMATION to read column information"
      ],
      "metadata": {
        "id": "lwxNuNDEMNgY"
      }
    },
    {
      "cell_type": "code",
      "source": [
        "df.info()"
      ],
      "metadata": {
        "id": "T1cIr_rDL55V"
      },
      "execution_count": null,
      "outputs": []
    },
    {
      "cell_type": "markdown",
      "source": [
        "SELECT ONE STATE DATA ONLY - MAHARASHTRA"
      ],
      "metadata": {
        "id": "Orgo7kEbM6Dg"
      }
    },
    {
      "cell_type": "code",
      "source": [
        "df = df[df['state_names'] == \"Maharashtra\"]\n",
        "df.info()"
      ],
      "metadata": {
        "id": "RD2d7tIBM9Un"
      },
      "execution_count": null,
      "outputs": []
    },
    {
      "cell_type": "code",
      "source": [
        "df.info()"
      ],
      "metadata": {
        "id": "wfKy8SYANCBr"
      },
      "execution_count": null,
      "outputs": []
    },
    {
      "cell_type": "markdown",
      "source": [
        "CHECK NULL VALUES IN COLUMN OF DATA SET - We can replace null values with Mean, Median, etc."
      ],
      "metadata": {
        "id": "QIK8PVigNjKm"
      }
    },
    {
      "cell_type": "code",
      "source": [
        "df.isnull().sum()"
      ],
      "metadata": {
        "id": "mvVZlEoGNW0K"
      },
      "execution_count": null,
      "outputs": []
    },
    {
      "cell_type": "markdown",
      "source": [
        "HEAD IS USED TO GET THE VALUES OF THAT ROWS THAT WE WANT"
      ],
      "metadata": {
        "id": "nBX1hzXiN5UN"
      }
    },
    {
      "cell_type": "code",
      "source": [
        "df.head(10)"
      ],
      "metadata": {
        "id": "xLVJ1RxgNoHW"
      },
      "execution_count": null,
      "outputs": []
    },
    {
      "cell_type": "code",
      "source": [
        "df"
      ],
      "metadata": {
        "id": "wDpG9jPoOHXv"
      },
      "execution_count": null,
      "outputs": []
    },
    {
      "cell_type": "markdown",
      "source": [
        "CORRELATION HEAT MAP -expresses how the two variable are depending upon each other"
      ],
      "metadata": {
        "id": "SbytOnYPOPk_"
      }
    },
    {
      "cell_type": "code",
      "source": [
        "import matplotlib.pyplot as plt\n",
        "import seaborn as sb\n",
        "C_mat = df.corr()\n",
        "fig = plt.figure(figsize = (12,12))\n",
        "sb.heatmap(C_mat, vmax = .8, square = True)\n",
        "plt.show()"
      ],
      "metadata": {
        "id": "gM1VzRmXOLwi"
      },
      "execution_count": null,
      "outputs": []
    },
    {
      "cell_type": "markdown",
      "source": [
        "takin data only after 2004"
      ],
      "metadata": {
        "id": "hiKBVyEwPDtB"
      }
    },
    {
      "cell_type": "code",
      "source": [
        "df=df[df['crop_year']>=2004]\n",
        "df"
      ],
      "metadata": {
        "id": "55fvDPDmOwbF"
      },
      "execution_count": null,
      "outputs": []
    },
    {
      "cell_type": "code",
      "source": [
        "df.info()"
      ],
      "metadata": {
        "id": "hwvvGVz9PTsG"
      },
      "execution_count": null,
      "outputs": []
    },
    {
      "cell_type": "markdown",
      "source": [
        "converting data into numerical value - here we have 5 objects we need to convert them into numeric value for ML"
      ],
      "metadata": {
        "id": "DTkNRJpIPsAK"
      }
    },
    {
      "cell_type": "code",
      "source": [
        "df = df.join(pd.get_dummies(df['district_names']))\n",
        "df = df.join(pd.get_dummies(df['season_names']))\n",
        "df = df.join(pd.get_dummies(df['crop_names']))\n",
        "df = df.join(pd.get_dummies(df['state_names']))\n",
        "df = df.join(pd.get_dummies(df['soil_type']))\n",
        "df"
      ],
      "metadata": {
        "id": "CHyEGs08PWLD"
      },
      "execution_count": null,
      "outputs": []
    },
    {
      "cell_type": "code",
      "source": [
        "df['Yield'] = df['production']/df['area']\n",
        "df"
      ],
      "metadata": {
        "id": "_ZKrjubvPyKy"
      },
      "execution_count": null,
      "outputs": []
    },
    {
      "cell_type": "code",
      "source": [
        "df = df.drop('production', axis=1)"
      ],
      "metadata": {
        "id": "zCBrqRReQdZg"
      },
      "execution_count": null,
      "outputs": []
    },
    {
      "cell_type": "code",
      "source": [
        "df"
      ],
      "metadata": {
        "id": "8m9Sy183Y7Lh"
      },
      "execution_count": null,
      "outputs": []
    },
    {
      "cell_type": "markdown",
      "source": [
        "Dropping unnecessary column"
      ],
      "metadata": {
        "id": "GCQIjxqGQ0Y9"
      }
    },
    {
      "cell_type": "code",
      "source": [
        "df=df.drop('district_names', axis=1)\n",
        "df = df.drop('season_names',axis=1)\n",
        "df = df.drop('crop_names',axis=1)"
      ],
      "metadata": {
        "id": "1KNd8HZbQxVz"
      },
      "execution_count": null,
      "outputs": []
    },
    {
      "cell_type": "code",
      "source": [
        "df = df.drop('state_names', axis=1)\n",
        "df = df.drop('soil_type', axis=1)\n",
        "df"
      ],
      "metadata": {
        "id": "ywXhiZnLQ4FD"
      },
      "execution_count": null,
      "outputs": []
    },
    {
      "cell_type": "code",
      "source": [
        "df2=df[\"area\"].mean()\n",
        "print(df2)\n",
        "df3=df[\"area\"].min()\n",
        "print(df3)\n",
        "df4=df[\"area\"].max()\n",
        "print(df4)"
      ],
      "metadata": {
        "id": "ElAs7CyAZ2TT"
      },
      "execution_count": null,
      "outputs": []
    },
    {
      "cell_type": "markdown",
      "source": [
        "Preprocessing - [(value-min column)/(max-min)]"
      ],
      "metadata": {
        "id": "BgISFaCpRMA-"
      }
    },
    {
      "cell_type": "code",
      "source": [
        "from sklearn import preprocessing"
      ],
      "metadata": {
        "id": "Eyl86TvSQ8h5"
      },
      "execution_count": null,
      "outputs": []
    },
    {
      "cell_type": "code",
      "source": [
        "# Create x, where x the 'scores' column's values as floats\n",
        "x = df[['area']].values.astype(float)\n",
        "x\n",
        "# Create a minimum and maximum processor object\n",
        "min_max_scaler = preprocessing.MinMaxScaler()\n",
        "\n",
        "# Create an object to transform the data to fit minmax processor\n",
        "x_scaled = min_max_scaler.fit_transform(x)\n",
        "\n",
        "# Run the normalizer on the dataframe\n",
        "#df_normalized = pd.DataFrame(x_scaled) [(value-min column)/(max-min)]\n",
        "x_scaled\n",
        "\n",
        "df['area'] = x_scaled\n",
        "df"
      ],
      "metadata": {
        "id": "oAipTQRxRSin"
      },
      "execution_count": null,
      "outputs": []
    },
    {
      "cell_type": "markdown",
      "source": [
        "Fill null values with mean (sum of all values of that column divided by N"
      ],
      "metadata": {
        "id": "VYg579etR216"
      }
    },
    {
      "cell_type": "code",
      "source": [
        "df = df.fillna(df.mean())\n",
        "df"
      ],
      "metadata": {
        "id": "bHFJ7AEDRuX-"
      },
      "execution_count": null,
      "outputs": []
    },
    {
      "cell_type": "markdown",
      "source": [
        "Split our data into train or test"
      ],
      "metadata": {
        "id": "XCux_dL_ScQr"
      }
    },
    {
      "cell_type": "code",
      "source": [
        "from sklearn.model_selection import train_test_split"
      ],
      "metadata": {
        "id": "CqpxJmxjR8Rq"
      },
      "execution_count": null,
      "outputs": []
    },
    {
      "cell_type": "code",
      "source": [
        "a=df"
      ],
      "metadata": {
        "id": "VJKqR_uWShyk"
      },
      "execution_count": null,
      "outputs": []
    },
    {
      "cell_type": "code",
      "source": [
        "b = df['Yield']\n",
        "#a = df.drop('Yield', axis = 1)"
      ],
      "metadata": {
        "id": "v_SDmZEESkQN"
      },
      "execution_count": null,
      "outputs": []
    },
    {
      "cell_type": "code",
      "source": [
        "df"
      ],
      "metadata": {
        "id": "PYy3P7hiRj5v"
      },
      "execution_count": null,
      "outputs": []
    },
    {
      "cell_type": "code",
      "source": [
        "c = df.drop('Unnamed: 0', axis = 1)"
      ],
      "metadata": {
        "id": "D_4Be2pwSm_L"
      },
      "execution_count": null,
      "outputs": []
    },
    {
      "cell_type": "code",
      "source": [
        "a=c.drop('Yield', axis = 1)"
      ],
      "metadata": {
        "id": "afGe9C5iSppl"
      },
      "execution_count": null,
      "outputs": []
    },
    {
      "cell_type": "code",
      "source": [
        "len(a.columns)"
      ],
      "metadata": {
        "id": "9JOdtvAXSs-_"
      },
      "execution_count": null,
      "outputs": []
    },
    {
      "cell_type": "code",
      "source": [
        "a.columns"
      ],
      "metadata": {
        "id": "-6vcWxDnSvDs"
      },
      "execution_count": null,
      "outputs": []
    },
    {
      "cell_type": "code",
      "source": [
        "features_list=['crop_year', 'area', 'temperature', 'wind_speed', 'pressure',\n",
        "       'humidity', 'N', 'P', 'K', 'AHMEDNAGAR', 'AKOLA', 'AMRAVATI',\n",
        "       'AURANGABAD', 'BEED', 'BHANDARA', 'BULDHANA', 'CHANDRAPUR', 'DHULE',\n",
        "       'GADCHIROLI', 'GONDIA', 'HINGOLI', 'JALGAON', 'JALNA', 'KOLHAPUR',\n",
        "       'LATUR', 'NAGPUR', 'NANDED', 'NANDURBAR', 'NASHIK', 'OSMANABAD',\n",
        "       'PALGHAR', 'PARBHANI', 'PUNE', 'RAIGAD', 'RATNAGIRI', 'SANGLI',\n",
        "       'SATARA', 'SINDHUDURG', 'SOLAPUR', 'THANE', 'WARDHA', 'WASHIM',\n",
        "       'YAVATMAL', 'Kharif     ', 'Rabi       ', 'Summer     ', 'Whole Year ',\n",
        "       'Arhar/Tur', 'Bajra', 'Castor seed', 'Cotton(lint)', 'Gram',\n",
        "       'Groundnut', 'Jowar', 'Linseed', 'Maize', 'Moong(Green Gram)',\n",
        "       'Niger seed', 'Other  Rabi pulses', 'Other Cereals & Millets',\n",
        "       'Other Kharif pulses', 'Ragi', 'Rapeseed &Mustard', 'Rice', 'Safflower',\n",
        "       'Sesamum', 'Soyabean', 'Sugarcane', 'Sunflower', 'Tobacco', 'Urad',\n",
        "       'Wheat', 'other oilseeds', 'Maharashtra', 'chalky', 'clay', 'loamy',\n",
        "       'peaty', 'sandy', 'silt', 'silty']"
      ],
      "metadata": {
        "id": "bMlhoUKvSxvn"
      },
      "execution_count": null,
      "outputs": []
    },
    {
      "cell_type": "code",
      "source": [
        "features_list123=[0, 0, 0, 0, 0, 0, 0, 0, 0, 0, 0, 0, 0, 0, 0, 0, 0, 0, 0, 0, 0, 0, 0, 0, 0, 0, 0, 0, 0, 0, 0, 0, 0, 0, 0, 0, 0, 0, 0, 0, 0, 0, 0, 0, 0, 0, 0, 0, 0, 0, 0, 0, 0, 0, 0, 0, 0, 0, 0, 0, 0, 0, 0, 0, 0, 0, 0, 0, 0, 0, 0, 0, 0, 0, 0, 0, 0, 0, 0, 0, 0]\n",
        "\n",
        "len(features_list123)"
      ],
      "metadata": {
        "id": "YklED20-TJuU"
      },
      "execution_count": null,
      "outputs": []
    },
    {
      "cell_type": "code",
      "source": [
        "a=df[features_list]"
      ],
      "metadata": {
        "id": "ifw6heluTRec"
      },
      "execution_count": null,
      "outputs": []
    },
    {
      "cell_type": "markdown",
      "source": [
        "split our data set into 70:30"
      ],
      "metadata": {
        "id": "_bw5HqUqUNl2"
      }
    },
    {
      "cell_type": "code",
      "source": [
        "a_train, a_test, b_train, b_test = train_test_split(a, b, test_size = 0.3,random_state=42)\n",
        "\n",
        "print(a_train)\n",
        "# a_train will be training input\n",
        "print(a_test)\n",
        "# a_train will be test input\n",
        "print(b_train)\n",
        "# a_train will be training output\n",
        "print(b_test)\n",
        "# a_train will be test output"
      ],
      "metadata": {
        "id": "WeGYXYH6TWuW"
      },
      "execution_count": null,
      "outputs": []
    },
    {
      "cell_type": "code",
      "source": [
        "import numpy as np  \n",
        "import matplotlib.pyplot as plt  \n",
        "import seaborn as seabornInstance \n",
        "from sklearn.linear_model import LinearRegression\n",
        "from sklearn import metrics\n",
        "%matplotlib inline"
      ],
      "metadata": {
        "id": "VWjIuc7uTdF0"
      },
      "execution_count": null,
      "outputs": []
    },
    {
      "cell_type": "code",
      "source": [
        "from sklearn.preprocessing import StandardScaler\n",
        "sc = StandardScaler()\n",
        "a_train = sc.fit_transform(a_train)\n",
        "a_test = sc.transform(a_test)"
      ],
      "metadata": {
        "id": "-fU9OPucUY7Z"
      },
      "execution_count": null,
      "outputs": []
    },
    {
      "cell_type": "markdown",
      "source": [
        "Random forest regressor"
      ],
      "metadata": {
        "id": "lLvYIhz3Unwb"
      }
    },
    {
      "cell_type": "code",
      "source": [
        "from sklearn.ensemble import RandomForestRegressor\n",
        "regr = RandomForestRegressor(max_depth=2, random_state=0, n_estimators=100)\n",
        "regr.fit(a_train, b_train)\n",
        "b_pred = regr.predict(a_test)\n",
        "\n",
        "from sklearn.metrics import mean_squared_error as mse\n",
        "from sklearn.metrics import mean_absolute_error as mae\n",
        "from sklearn.metrics import r2_score\n",
        "print('MAE =', mae(b_pred, b_test))\n",
        "print('R2score =', r2_score(b_pred, b_test))\n",
        "print('R2score in percentage =', r2_score(b_pred, b_test)*100)"
      ],
      "metadata": {
        "id": "YtdS5W5JUmhE"
      },
      "execution_count": null,
      "outputs": []
    },
    {
      "cell_type": "markdown",
      "source": [
        "classifier is used when there is our targeted result is class"
      ],
      "metadata": {
        "id": "Na02n791VCK0"
      }
    },
    {
      "cell_type": "markdown",
      "source": [
        "Neural network implementation\n"
      ],
      "metadata": {
        "id": "T33MpuCm3Hmk"
      }
    },
    {
      "cell_type": "code",
      "source": [
        "from tensorflow.keras.callbacks import ModelCheckpoint\n",
        "from tensorflow.keras.models import Sequential\n",
        "from tensorflow.keras.layers import Dense, Activation, Flatten\n",
        "from sklearn.model_selection import train_test_split\n",
        "from sklearn.metrics import mean_absolute_error \n",
        "from matplotlib import pyplot as plt\n",
        "import seaborn as sb\n",
        "import matplotlib.pyplot as plt\n",
        "import pandas as pd\n",
        "import numpy as np\n",
        "import warnings\n",
        "from tensorflow.keras.callbacks import History \n",
        "warnings.filterwarnings('ignore')\n",
        "warnings.filterwarnings('ignore', category=DeprecationWarning)"
      ],
      "metadata": {
        "id": "eVIGjO_OU4NQ"
      },
      "execution_count": null,
      "outputs": []
    },
    {
      "cell_type": "code",
      "source": [
        "NN_model = Sequential()\n",
        "# The Input Layer :\n",
        "NN_model.add(Dense(128, kernel_initializer='normal',input_dim = a_train.shape[1], activation='relu'))\n",
        "# The Hidden Layers :\n",
        "NN_model.add(Dense(256, kernel_initializer='normal',activation='relu'))\n",
        "NN_model.add(Dense(256, kernel_initializer='normal',activation='relu'))\n",
        "NN_model.add(Dense(256, kernel_initializer='normal',activation='relu'))\n",
        "# The Output Layer :\n",
        "NN_model.add(Dense(1, kernel_initializer='normal',activation='linear'))\n",
        "# Compile the network :\n",
        "NN_model.compile(loss='mean_absolute_error', optimizer='adam', metrics=['accuracy','mean_absolute_error'])\n",
        "NN_model.summary()"
      ],
      "metadata": {
        "id": "bLtn8oX73Ca6"
      },
      "execution_count": null,
      "outputs": []
    },
    {
      "cell_type": "code",
      "source": [
        "from tensorflow.keras.callbacks import History \n",
        "history = History()\n",
        "History=NN_model.fit(a_train, b_train, epochs=50, batch_size=500, validation_split = 0.2, callbacks=[history])"
      ],
      "metadata": {
        "id": "f8z1P3MJ3P79"
      },
      "execution_count": null,
      "outputs": []
    },
    {
      "cell_type": "code",
      "source": [
        "print(history.history.keys())\n",
        "plt.plot(History.history['mean_absolute_error'])\n",
        "plt.ylabel('Loss')\n",
        "plt.xlabel('epoch')"
      ],
      "metadata": {
        "id": "k9XcFE803U7m"
      },
      "execution_count": null,
      "outputs": []
    },
    {
      "cell_type": "code",
      "source": [
        "plt.plot(History.history['mean_absolute_error'])\n",
        "plt.plot(History.history['val_mean_absolute_error'])\n",
        "plt.title('Model Loss')\n",
        "plt.ylabel('Loss')\n",
        "plt.xlabel('epoch')\n",
        "plt.legend(['train', 'test'], loc='upper left')\n",
        "plt.show()\n"
      ],
      "metadata": {
        "id": "s7SiXe4k3bW9"
      },
      "execution_count": null,
      "outputs": []
    },
    {
      "cell_type": "markdown",
      "source": [
        "Polynomial support vector machine\n"
      ],
      "metadata": {
        "id": "G6bUDF8N4C_H"
      }
    },
    {
      "cell_type": "code",
      "source": [
        "from sklearn.svm import SVR\n",
        "regressorpoly=SVR(kernel='poly',epsilon=1.0)\n",
        "regressorpoly.fit(a_train,b_train)\n",
        "pred=regressorpoly.predict(a_test)\n",
        "print(\"MAE=\", regressorpoly.score(a_test,b_test))\n",
        "print('Yield=', r2_score(b_test,b_pred))"
      ],
      "metadata": {
        "id": "mI56OtM74IpS"
      },
      "execution_count": null,
      "outputs": []
    },
    {
      "cell_type": "markdown",
      "source": [
        "XGB regressor"
      ],
      "metadata": {
        "id": "JNeB_Zli4NnA"
      }
    },
    {
      "cell_type": "code",
      "source": [
        "from xgboost import XGBRegressor\n",
        "from sklearn.metrics import mean_absolute_error \n",
        "XGBModel = XGBRegressor()\n",
        "XGBModel.fit(a_train,b_train , verbose=False)\n",
        "\n",
        "# Get the mean absolute error on the validation data :\n",
        "XGBpredictions = XGBModel.predict(a_test)\n",
        "MAE = mean_absolute_error(b_test , XGBpredictions)\n",
        "print('XGBoost validation MAE = ',MAE)\n",
        "print(r2_score(b_test , XGBpredictions))\n",
        "print(\"Yield  after apply XGboost :\",(r2_score(b_test , XGBpredictions))*100)\n",
        "XGBpredictions"
      ],
      "metadata": {
        "id": "9fPX3tGu4RFv"
      },
      "execution_count": null,
      "outputs": []
    },
    {
      "cell_type": "code",
      "source": [
        "import pandas as pd\n",
        "import numpy as np\n",
        "from sklearn.linear_model import LinearRegression\n",
        "from sklearn.model_selection import train_test_split\n",
        "from sklearn.metrics import mean_squared_error\n",
        "# Load the dataset\n",
        "df = pd.read_csv('finalised_dataset.csv')\n",
        "df.info()"
      ],
      "metadata": {
        "id": "_1lrFpDZq8se"
      },
      "execution_count": null,
      "outputs": []
    },
    {
      "cell_type": "code",
      "source": [
        "df.drop(df[(df['production']==\"=\")].index, inplace=True)\n",
        "df['production']=df['production'].astype(float)\n",
        "df['Yield']=df['production']/df['area']\n",
        "df"
      ],
      "metadata": {
        "id": "Y8C9EXD90hVm"
      },
      "execution_count": null,
      "outputs": []
    },
    {
      "cell_type": "code",
      "source": [
        "df=df.drop('district_names',axis=1)\n",
        "# df=df.drop('yield',axis=1)\n",
        "# df=df.drop('Area',axis=1)\n",
        "df=df.drop('season_names',axis=1)\n",
        "df=df.drop('state_names',axis=1)\n",
        "df=df.drop('soil_type',axis=1)\n",
        "df=df.drop('production',axis=1)\n",
        "# df=df.drop('N',axis=1)\n",
        "# df=df.drop('P',axis=1)\n",
        "# df=df.drop('K',axis=1)\n",
        "df=df.drop('crop_year',axis=1)\n",
        "df"
      ],
      "metadata": {
        "id": "ju61hDPPrQum"
      },
      "execution_count": null,
      "outputs": []
    },
    {
      "cell_type": "code",
      "source": [
        "import matplotlib.pyplot as plt\n",
        "import seaborn as sb\n",
        "c_mat=df.corr()\n",
        "fig=plt.figure(figsize=(12,12))\n",
        "sb.heatmap(c_mat,vmax=.8,square=True)\n",
        "plt.show()"
      ],
      "metadata": {
        "id": "h81RCr3HwbY3"
      },
      "execution_count": null,
      "outputs": []
    },
    {
      "cell_type": "code",
      "source": [
        "from sklearn import preprocessing\n",
        "x=df[['area']].values.astype(float)\n",
        "scaler=preprocessing.MinMaxScaler()\n",
        "x_scaled=scaler.fit_transform(x)\n",
        "df['area']=x_scaled\n",
        "df[['area','Yield']]"
      ],
      "metadata": {
        "id": "tuKa7VW_wcaB"
      },
      "execution_count": null,
      "outputs": []
    },
    {
      "cell_type": "code",
      "source": [
        "df['Yield'].mean()\n",
        "df=df[df['Yield']>4.2]\n",
        "df"
      ],
      "metadata": {
        "id": "RT_vw8uQwir7"
      },
      "execution_count": null,
      "outputs": []
    },
    {
      "cell_type": "code",
      "source": [
        "df=df.fillna(df.mean())\n",
        "df.isnull().sum()"
      ],
      "metadata": {
        "id": "nZkojLgwwmI_"
      },
      "execution_count": null,
      "outputs": []
    },
    {
      "cell_type": "code",
      "source": [
        "from sklearn.model_selection import train_test_split\n",
        "a=df\n",
        "b=df[['crop_names']]\n",
        "a=a.drop('Unnamed: 0',axis=1)\n",
        "a=a.drop('crop_names',axis=1)\n",
        "a=a.drop('area',axis=1)\n",
        "# a=a.drop('Yield',axis=1)"
      ],
      "metadata": {
        "id": "YSVxVRSWwo5g"
      },
      "execution_count": null,
      "outputs": []
    },
    {
      "cell_type": "code",
      "source": [
        "a"
      ],
      "metadata": {
        "id": "hIIKv9tMwr78"
      },
      "execution_count": null,
      "outputs": []
    },
    {
      "cell_type": "code",
      "source": [
        "a_train,a_test,b_train,b_test=train_test_split(a,b,test_size=0.2,random_state=42)\n",
        "print(a_train)\n",
        "print(a_test)\n",
        "print(b_train)\n",
        "print(b_test)"
      ],
      "metadata": {
        "id": "qjyW6EU5wu2r"
      },
      "execution_count": null,
      "outputs": []
    },
    {
      "cell_type": "code",
      "source": [
        "import lightgbm as lbm\n",
        "model=lbm.LGBMClassifier()\n",
        "model.fit(a_train,b_train)\n",
        "b_pred=model.predict(a_test)\n",
        "from sklearn.metrics import accuracy_score\n",
        "score=accuracy_score(b_pred,b_test)\n",
        "print(\"Score: \",score)"
      ],
      "metadata": {
        "id": "LH6JM_9rwxmf"
      },
      "execution_count": null,
      "outputs": []
    },
    {
      "cell_type": "code",
      "source": [
        "from sklearn.metrics import confusion_matrix\n",
        "import seaborn as sns\n",
        "cm=confusion_matrix(b_test,b_pred)\n",
        "plt.figure(figsize=(12,12))\n",
        "sns.heatmap(cm,annot=True,fmt=\".0f\",square=True,cmap=\"Blues\",linewidth=5)\n",
        "plt.ylabel(\"Actual\")\n",
        "plt.xlabel(\"Predict\")\n",
        "plt.show()"
      ],
      "metadata": {
        "id": "t6y93VhtxDiM"
      },
      "execution_count": null,
      "outputs": []
    },
    {
      "cell_type": "code",
      "source": [
        "df.iloc[12]"
      ],
      "metadata": {
        "id": "4K_3KHY2xIcQ"
      },
      "execution_count": null,
      "outputs": []
    },
    {
      "cell_type": "code",
      "source": [
        "df.iloc[12].values"
      ],
      "metadata": {
        "id": "WcTEY5OexJVe"
      },
      "execution_count": null,
      "outputs": []
    },
    {
      "cell_type": "code",
      "source": [
        "df['crop_names'].nunique(),\n",
        "df['crop_names'].unique()"
      ],
      "metadata": {
        "id": "pdDASmNOxOvs"
      },
      "execution_count": null,
      "outputs": []
    },
    {
      "cell_type": "code",
      "source": [
        "model.predict([[ 20.933285, 2.011367, 1015.406196, 20.815299, 0.465, 0.465, 0.465, 182.653061]])"
      ],
      "metadata": {
        "id": "aDz8_qlBxMAk"
      },
      "execution_count": null,
      "outputs": []
    },
    {
      "cell_type": "code",
      "source": [],
      "metadata": {
        "id": "lyaE35fj02q7"
      },
      "execution_count": null,
      "outputs": []
    },
    {
      "cell_type": "code",
      "source": [
        "import pandas as pd\n",
        "import matplotlib.pyplot as plt\n",
        "import seaborn as sns\n",
        "import numpy as np"
      ],
      "metadata": {
        "id": "8UmeHpelLx6b"
      },
      "execution_count": null,
      "outputs": []
    },
    {
      "cell_type": "code",
      "source": [],
      "metadata": {
        "id": "J_F6-rwKIjs3"
      },
      "execution_count": null,
      "outputs": []
    },
    {
      "cell_type": "code",
      "source": [],
      "metadata": {
        "id": "W8A6SPjvIjpI"
      },
      "execution_count": null,
      "outputs": []
    },
    {
      "cell_type": "code",
      "source": [],
      "metadata": {
        "id": "9Bd92dNXIjin"
      },
      "execution_count": null,
      "outputs": []
    },
    {
      "cell_type": "code",
      "source": [],
      "metadata": {
        "id": "ECJLsNpBIjfJ"
      },
      "execution_count": null,
      "outputs": []
    },
    {
      "cell_type": "code",
      "source": [],
      "metadata": {
        "id": "QCZHOr4XIjRt"
      },
      "execution_count": null,
      "outputs": []
    },
    {
      "cell_type": "code",
      "source": [
        "df"
      ],
      "metadata": {
        "colab": {
          "base_uri": "https://localhost:8080/",
          "height": 505
        },
        "id": "8fMM9T1bMydc",
        "outputId": "e314d685-18cf-4467-dc19-ee029052bed8"
      },
      "execution_count": null,
      "outputs": [
        {
          "output_type": "execute_result",
          "data": {
            "text/plain": [
              "       Unnamed: 0  state_names district_names  crop_year season_names  \\\n",
              "0          125192  Maharashtra     AHMEDNAGAR       1997  Kharif        \n",
              "1          125193  Maharashtra     AHMEDNAGAR       1997  Kharif        \n",
              "2          125194  Maharashtra     AHMEDNAGAR       1997  Kharif        \n",
              "3          125195  Maharashtra     AHMEDNAGAR       1997  Kharif        \n",
              "4          125196  Maharashtra     AHMEDNAGAR       1997  Kharif        \n",
              "...           ...          ...            ...        ...          ...   \n",
              "12622      137814  Maharashtra       YAVATMAL       2014  Rabi          \n",
              "12623      137815  Maharashtra       YAVATMAL       2014  Rabi          \n",
              "12624      137816  Maharashtra       YAVATMAL       2014  Rabi          \n",
              "12625      137817  Maharashtra       YAVATMAL       2014  Summer        \n",
              "12626      137818  Maharashtra       YAVATMAL       2014  Whole Year    \n",
              "\n",
              "      crop_names    area  temperature  wind_speed     pressure   humidity  \\\n",
              "0      Arhar/Tur   17600    20.160426    1.976480  1015.193528  20.643237   \n",
              "1          Bajra  274100    21.998299    2.000524  1014.184607  21.422312   \n",
              "2           Gram   40800    21.776377    2.019750  1015.053118  21.810567   \n",
              "3          Jowar     900    20.075734    1.974351  1015.170238  21.930206   \n",
              "4          Maize    4400    21.642354    2.075066  1015.702482  21.571403   \n",
              "...          ...     ...          ...         ...          ...        ...   \n",
              "12622      Jowar    4000    21.635879    2.000060  1014.302213  20.060662   \n",
              "12623      Maize    1300    21.709611    2.053609  1015.803912  21.263478   \n",
              "12624      Wheat   29100    21.851730    2.027476  1014.031903  20.059945   \n",
              "12625  Groundnut    9400    21.569380    2.004421  1013.989125  21.835158   \n",
              "12626  Sugarcane    8100    21.666723    2.008003  1015.081619  21.754799   \n",
              "\n",
              "      soil_type       N       P       K  production      Yield  \n",
              "0         sandy   9.000   9.000   0.000      6300.0   0.357955  \n",
              "1          clay   0.000   0.000   0.000    152800.0   0.557461  \n",
              "2        chalky  38.250  38.250  38.250     18600.0   0.455882  \n",
              "3          clay   0.000  23.184   0.000      1100.0   1.222222  \n",
              "4         sandy   5.640  14.664  14.664      4700.0   1.068182  \n",
              "...         ...     ...     ...     ...         ...        ...  \n",
              "12622     silty   7.840   7.840   0.000      3300.0   0.825000  \n",
              "12623      silt   7.504  18.760   7.504       200.0   0.153846  \n",
              "12624     sandy   0.000   0.000   0.000     26800.0   0.920962  \n",
              "12625    chalky   2.896   3.620   0.000     11500.0   1.223404  \n",
              "12626     loamy   3.150   0.000   0.000    553700.0  68.358025  \n",
              "\n",
              "[12627 rows x 17 columns]"
            ],
            "text/html": [
              "\n",
              "  <div id=\"df-d53e9690-fb7d-415a-ac57-8500c180ac6d\">\n",
              "    <div class=\"colab-df-container\">\n",
              "      <div>\n",
              "<style scoped>\n",
              "    .dataframe tbody tr th:only-of-type {\n",
              "        vertical-align: middle;\n",
              "    }\n",
              "\n",
              "    .dataframe tbody tr th {\n",
              "        vertical-align: top;\n",
              "    }\n",
              "\n",
              "    .dataframe thead th {\n",
              "        text-align: right;\n",
              "    }\n",
              "</style>\n",
              "<table border=\"1\" class=\"dataframe\">\n",
              "  <thead>\n",
              "    <tr style=\"text-align: right;\">\n",
              "      <th></th>\n",
              "      <th>Unnamed: 0</th>\n",
              "      <th>state_names</th>\n",
              "      <th>district_names</th>\n",
              "      <th>crop_year</th>\n",
              "      <th>season_names</th>\n",
              "      <th>crop_names</th>\n",
              "      <th>area</th>\n",
              "      <th>temperature</th>\n",
              "      <th>wind_speed</th>\n",
              "      <th>pressure</th>\n",
              "      <th>humidity</th>\n",
              "      <th>soil_type</th>\n",
              "      <th>N</th>\n",
              "      <th>P</th>\n",
              "      <th>K</th>\n",
              "      <th>production</th>\n",
              "      <th>Yield</th>\n",
              "    </tr>\n",
              "  </thead>\n",
              "  <tbody>\n",
              "    <tr>\n",
              "      <th>0</th>\n",
              "      <td>125192</td>\n",
              "      <td>Maharashtra</td>\n",
              "      <td>AHMEDNAGAR</td>\n",
              "      <td>1997</td>\n",
              "      <td>Kharif</td>\n",
              "      <td>Arhar/Tur</td>\n",
              "      <td>17600</td>\n",
              "      <td>20.160426</td>\n",
              "      <td>1.976480</td>\n",
              "      <td>1015.193528</td>\n",
              "      <td>20.643237</td>\n",
              "      <td>sandy</td>\n",
              "      <td>9.000</td>\n",
              "      <td>9.000</td>\n",
              "      <td>0.000</td>\n",
              "      <td>6300.0</td>\n",
              "      <td>0.357955</td>\n",
              "    </tr>\n",
              "    <tr>\n",
              "      <th>1</th>\n",
              "      <td>125193</td>\n",
              "      <td>Maharashtra</td>\n",
              "      <td>AHMEDNAGAR</td>\n",
              "      <td>1997</td>\n",
              "      <td>Kharif</td>\n",
              "      <td>Bajra</td>\n",
              "      <td>274100</td>\n",
              "      <td>21.998299</td>\n",
              "      <td>2.000524</td>\n",
              "      <td>1014.184607</td>\n",
              "      <td>21.422312</td>\n",
              "      <td>clay</td>\n",
              "      <td>0.000</td>\n",
              "      <td>0.000</td>\n",
              "      <td>0.000</td>\n",
              "      <td>152800.0</td>\n",
              "      <td>0.557461</td>\n",
              "    </tr>\n",
              "    <tr>\n",
              "      <th>2</th>\n",
              "      <td>125194</td>\n",
              "      <td>Maharashtra</td>\n",
              "      <td>AHMEDNAGAR</td>\n",
              "      <td>1997</td>\n",
              "      <td>Kharif</td>\n",
              "      <td>Gram</td>\n",
              "      <td>40800</td>\n",
              "      <td>21.776377</td>\n",
              "      <td>2.019750</td>\n",
              "      <td>1015.053118</td>\n",
              "      <td>21.810567</td>\n",
              "      <td>chalky</td>\n",
              "      <td>38.250</td>\n",
              "      <td>38.250</td>\n",
              "      <td>38.250</td>\n",
              "      <td>18600.0</td>\n",
              "      <td>0.455882</td>\n",
              "    </tr>\n",
              "    <tr>\n",
              "      <th>3</th>\n",
              "      <td>125195</td>\n",
              "      <td>Maharashtra</td>\n",
              "      <td>AHMEDNAGAR</td>\n",
              "      <td>1997</td>\n",
              "      <td>Kharif</td>\n",
              "      <td>Jowar</td>\n",
              "      <td>900</td>\n",
              "      <td>20.075734</td>\n",
              "      <td>1.974351</td>\n",
              "      <td>1015.170238</td>\n",
              "      <td>21.930206</td>\n",
              "      <td>clay</td>\n",
              "      <td>0.000</td>\n",
              "      <td>23.184</td>\n",
              "      <td>0.000</td>\n",
              "      <td>1100.0</td>\n",
              "      <td>1.222222</td>\n",
              "    </tr>\n",
              "    <tr>\n",
              "      <th>4</th>\n",
              "      <td>125196</td>\n",
              "      <td>Maharashtra</td>\n",
              "      <td>AHMEDNAGAR</td>\n",
              "      <td>1997</td>\n",
              "      <td>Kharif</td>\n",
              "      <td>Maize</td>\n",
              "      <td>4400</td>\n",
              "      <td>21.642354</td>\n",
              "      <td>2.075066</td>\n",
              "      <td>1015.702482</td>\n",
              "      <td>21.571403</td>\n",
              "      <td>sandy</td>\n",
              "      <td>5.640</td>\n",
              "      <td>14.664</td>\n",
              "      <td>14.664</td>\n",
              "      <td>4700.0</td>\n",
              "      <td>1.068182</td>\n",
              "    </tr>\n",
              "    <tr>\n",
              "      <th>...</th>\n",
              "      <td>...</td>\n",
              "      <td>...</td>\n",
              "      <td>...</td>\n",
              "      <td>...</td>\n",
              "      <td>...</td>\n",
              "      <td>...</td>\n",
              "      <td>...</td>\n",
              "      <td>...</td>\n",
              "      <td>...</td>\n",
              "      <td>...</td>\n",
              "      <td>...</td>\n",
              "      <td>...</td>\n",
              "      <td>...</td>\n",
              "      <td>...</td>\n",
              "      <td>...</td>\n",
              "      <td>...</td>\n",
              "      <td>...</td>\n",
              "    </tr>\n",
              "    <tr>\n",
              "      <th>12622</th>\n",
              "      <td>137814</td>\n",
              "      <td>Maharashtra</td>\n",
              "      <td>YAVATMAL</td>\n",
              "      <td>2014</td>\n",
              "      <td>Rabi</td>\n",
              "      <td>Jowar</td>\n",
              "      <td>4000</td>\n",
              "      <td>21.635879</td>\n",
              "      <td>2.000060</td>\n",
              "      <td>1014.302213</td>\n",
              "      <td>20.060662</td>\n",
              "      <td>silty</td>\n",
              "      <td>7.840</td>\n",
              "      <td>7.840</td>\n",
              "      <td>0.000</td>\n",
              "      <td>3300.0</td>\n",
              "      <td>0.825000</td>\n",
              "    </tr>\n",
              "    <tr>\n",
              "      <th>12623</th>\n",
              "      <td>137815</td>\n",
              "      <td>Maharashtra</td>\n",
              "      <td>YAVATMAL</td>\n",
              "      <td>2014</td>\n",
              "      <td>Rabi</td>\n",
              "      <td>Maize</td>\n",
              "      <td>1300</td>\n",
              "      <td>21.709611</td>\n",
              "      <td>2.053609</td>\n",
              "      <td>1015.803912</td>\n",
              "      <td>21.263478</td>\n",
              "      <td>silt</td>\n",
              "      <td>7.504</td>\n",
              "      <td>18.760</td>\n",
              "      <td>7.504</td>\n",
              "      <td>200.0</td>\n",
              "      <td>0.153846</td>\n",
              "    </tr>\n",
              "    <tr>\n",
              "      <th>12624</th>\n",
              "      <td>137816</td>\n",
              "      <td>Maharashtra</td>\n",
              "      <td>YAVATMAL</td>\n",
              "      <td>2014</td>\n",
              "      <td>Rabi</td>\n",
              "      <td>Wheat</td>\n",
              "      <td>29100</td>\n",
              "      <td>21.851730</td>\n",
              "      <td>2.027476</td>\n",
              "      <td>1014.031903</td>\n",
              "      <td>20.059945</td>\n",
              "      <td>sandy</td>\n",
              "      <td>0.000</td>\n",
              "      <td>0.000</td>\n",
              "      <td>0.000</td>\n",
              "      <td>26800.0</td>\n",
              "      <td>0.920962</td>\n",
              "    </tr>\n",
              "    <tr>\n",
              "      <th>12625</th>\n",
              "      <td>137817</td>\n",
              "      <td>Maharashtra</td>\n",
              "      <td>YAVATMAL</td>\n",
              "      <td>2014</td>\n",
              "      <td>Summer</td>\n",
              "      <td>Groundnut</td>\n",
              "      <td>9400</td>\n",
              "      <td>21.569380</td>\n",
              "      <td>2.004421</td>\n",
              "      <td>1013.989125</td>\n",
              "      <td>21.835158</td>\n",
              "      <td>chalky</td>\n",
              "      <td>2.896</td>\n",
              "      <td>3.620</td>\n",
              "      <td>0.000</td>\n",
              "      <td>11500.0</td>\n",
              "      <td>1.223404</td>\n",
              "    </tr>\n",
              "    <tr>\n",
              "      <th>12626</th>\n",
              "      <td>137818</td>\n",
              "      <td>Maharashtra</td>\n",
              "      <td>YAVATMAL</td>\n",
              "      <td>2014</td>\n",
              "      <td>Whole Year</td>\n",
              "      <td>Sugarcane</td>\n",
              "      <td>8100</td>\n",
              "      <td>21.666723</td>\n",
              "      <td>2.008003</td>\n",
              "      <td>1015.081619</td>\n",
              "      <td>21.754799</td>\n",
              "      <td>loamy</td>\n",
              "      <td>3.150</td>\n",
              "      <td>0.000</td>\n",
              "      <td>0.000</td>\n",
              "      <td>553700.0</td>\n",
              "      <td>68.358025</td>\n",
              "    </tr>\n",
              "  </tbody>\n",
              "</table>\n",
              "<p>12627 rows × 17 columns</p>\n",
              "</div>\n",
              "      <button class=\"colab-df-convert\" onclick=\"convertToInteractive('df-d53e9690-fb7d-415a-ac57-8500c180ac6d')\"\n",
              "              title=\"Convert this dataframe to an interactive table.\"\n",
              "              style=\"display:none;\">\n",
              "        \n",
              "  <svg xmlns=\"http://www.w3.org/2000/svg\" height=\"24px\"viewBox=\"0 0 24 24\"\n",
              "       width=\"24px\">\n",
              "    <path d=\"M0 0h24v24H0V0z\" fill=\"none\"/>\n",
              "    <path d=\"M18.56 5.44l.94 2.06.94-2.06 2.06-.94-2.06-.94-.94-2.06-.94 2.06-2.06.94zm-11 1L8.5 8.5l.94-2.06 2.06-.94-2.06-.94L8.5 2.5l-.94 2.06-2.06.94zm10 10l.94 2.06.94-2.06 2.06-.94-2.06-.94-.94-2.06-.94 2.06-2.06.94z\"/><path d=\"M17.41 7.96l-1.37-1.37c-.4-.4-.92-.59-1.43-.59-.52 0-1.04.2-1.43.59L10.3 9.45l-7.72 7.72c-.78.78-.78 2.05 0 2.83L4 21.41c.39.39.9.59 1.41.59.51 0 1.02-.2 1.41-.59l7.78-7.78 2.81-2.81c.8-.78.8-2.07 0-2.86zM5.41 20L4 18.59l7.72-7.72 1.47 1.35L5.41 20z\"/>\n",
              "  </svg>\n",
              "      </button>\n",
              "      \n",
              "  <style>\n",
              "    .colab-df-container {\n",
              "      display:flex;\n",
              "      flex-wrap:wrap;\n",
              "      gap: 12px;\n",
              "    }\n",
              "\n",
              "    .colab-df-convert {\n",
              "      background-color: #E8F0FE;\n",
              "      border: none;\n",
              "      border-radius: 50%;\n",
              "      cursor: pointer;\n",
              "      display: none;\n",
              "      fill: #1967D2;\n",
              "      height: 32px;\n",
              "      padding: 0 0 0 0;\n",
              "      width: 32px;\n",
              "    }\n",
              "\n",
              "    .colab-df-convert:hover {\n",
              "      background-color: #E2EBFA;\n",
              "      box-shadow: 0px 1px 2px rgba(60, 64, 67, 0.3), 0px 1px 3px 1px rgba(60, 64, 67, 0.15);\n",
              "      fill: #174EA6;\n",
              "    }\n",
              "\n",
              "    [theme=dark] .colab-df-convert {\n",
              "      background-color: #3B4455;\n",
              "      fill: #D2E3FC;\n",
              "    }\n",
              "\n",
              "    [theme=dark] .colab-df-convert:hover {\n",
              "      background-color: #434B5C;\n",
              "      box-shadow: 0px 1px 3px 1px rgba(0, 0, 0, 0.15);\n",
              "      filter: drop-shadow(0px 1px 2px rgba(0, 0, 0, 0.3));\n",
              "      fill: #FFFFFF;\n",
              "    }\n",
              "  </style>\n",
              "\n",
              "      <script>\n",
              "        const buttonEl =\n",
              "          document.querySelector('#df-d53e9690-fb7d-415a-ac57-8500c180ac6d button.colab-df-convert');\n",
              "        buttonEl.style.display =\n",
              "          google.colab.kernel.accessAllowed ? 'block' : 'none';\n",
              "\n",
              "        async function convertToInteractive(key) {\n",
              "          const element = document.querySelector('#df-d53e9690-fb7d-415a-ac57-8500c180ac6d');\n",
              "          const dataTable =\n",
              "            await google.colab.kernel.invokeFunction('convertToInteractive',\n",
              "                                                     [key], {});\n",
              "          if (!dataTable) return;\n",
              "\n",
              "          const docLinkHtml = 'Like what you see? Visit the ' +\n",
              "            '<a target=\"_blank\" href=https://colab.research.google.com/notebooks/data_table.ipynb>data table notebook</a>'\n",
              "            + ' to learn more about interactive tables.';\n",
              "          element.innerHTML = '';\n",
              "          dataTable['output_type'] = 'display_data';\n",
              "          await google.colab.output.renderOutput(dataTable, element);\n",
              "          const docLink = document.createElement('div');\n",
              "          docLink.innerHTML = docLinkHtml;\n",
              "          element.appendChild(docLink);\n",
              "        }\n",
              "      </script>\n",
              "    </div>\n",
              "  </div>\n",
              "  "
            ]
          },
          "metadata": {},
          "execution_count": 208
        }
      ]
    },
    {
      "cell_type": "code",
      "source": [
        "df.isnull().sum()"
      ],
      "metadata": {
        "colab": {
          "base_uri": "https://localhost:8080/"
        },
        "id": "6yK5EIXKMVNA",
        "outputId": "54c3058a-61e9-45e3-e726-edc49d020a85"
      },
      "execution_count": null,
      "outputs": [
        {
          "output_type": "execute_result",
          "data": {
            "text/plain": [
              "Unnamed: 0          0\n",
              "state_names         0\n",
              "district_names      0\n",
              "crop_year           0\n",
              "season_names        0\n",
              "crop_names          0\n",
              "area                0\n",
              "temperature         0\n",
              "wind_speed          0\n",
              "pressure            0\n",
              "humidity            0\n",
              "soil_type           0\n",
              "N                   0\n",
              "P                   0\n",
              "K                   0\n",
              "production        132\n",
              "Yield             132\n",
              "dtype: int64"
            ]
          },
          "metadata": {},
          "execution_count": 209
        }
      ]
    },
    {
      "cell_type": "code",
      "source": [
        "data = df.dropna()\n",
        "print(data.shape)\n",
        "test = df[~df[\"production\"].notna()].drop(\"production\",axis=1)\n",
        "print(test.shape)"
      ],
      "metadata": {
        "colab": {
          "base_uri": "https://localhost:8080/"
        },
        "id": "UuusqNzFMNTw",
        "outputId": "aac5a0fc-a925-4aff-8d48-eab3d236db66"
      },
      "execution_count": null,
      "outputs": [
        {
          "output_type": "stream",
          "name": "stdout",
          "text": [
            "(12495, 17)\n",
            "(132, 16)\n"
          ]
        }
      ]
    },
    {
      "cell_type": "code",
      "source": [
        "for i in data.columns:\n",
        "    print(\"column name :\",i)\n",
        "    print(\"No. of column :\",len(data[i].unique()))\n",
        "    print(data[i].unique())"
      ],
      "metadata": {
        "colab": {
          "base_uri": "https://localhost:8080/"
        },
        "id": "VGWQgohsNEqS",
        "outputId": "08ea783a-285a-4c29-ab0d-7be118361428"
      },
      "execution_count": null,
      "outputs": [
        {
          "output_type": "stream",
          "name": "stdout",
          "text": [
            "column name : Unnamed: 0\n",
            "No. of column : 12495\n",
            "[125192 125193 125194 ... 137816 137817 137818]\n",
            "column name : state_names\n",
            "No. of column : 1\n",
            "['Maharashtra']\n",
            "column name : district_names\n",
            "No. of column : 35\n",
            "['AHMEDNAGAR' 'AKOLA' 'AMRAVATI' 'AURANGABAD' 'BEED' 'BHANDARA' 'BULDHANA'\n",
            " 'CHANDRAPUR' 'DHULE' 'GADCHIROLI' 'GONDIA' 'HINGOLI' 'JALGAON' 'JALNA'\n",
            " 'KOLHAPUR' 'LATUR' 'MUMBAI' 'NAGPUR' 'NANDED' 'NANDURBAR' 'NASHIK'\n",
            " 'OSMANABAD' 'PALGHAR' 'PARBHANI' 'PUNE' 'RAIGAD' 'RATNAGIRI' 'SANGLI'\n",
            " 'SATARA' 'SINDHUDURG' 'SOLAPUR' 'THANE' 'WARDHA' 'WASHIM' 'YAVATMAL']\n",
            "column name : crop_year\n",
            "No. of column : 18\n",
            "[1997 1998 1999 2000 2001 2002 2003 2004 2005 2006 2007 2008 2009 2010\n",
            " 2011 2012 2013 2014]\n",
            "column name : season_names\n",
            "No. of column : 5\n",
            "['Kharif     ' 'Rabi       ' 'Summer     ' 'Whole Year ' 'Autumn     ']\n",
            "column name : crop_names\n",
            "No. of column : 34\n",
            "['Arhar/Tur' 'Bajra' 'Gram' 'Jowar' 'Maize' 'Moong(Green Gram)'\n",
            " 'Pulses total' 'Ragi' 'Rice' 'Sugarcane' 'Total foodgrain' 'Urad'\n",
            " 'Other  Rabi pulses' 'Wheat' 'Cotton(lint)' 'Castor seed' 'Groundnut'\n",
            " 'Niger seed' 'Other Cereals & Millets' 'Other Kharif pulses' 'Sesamum'\n",
            " 'Soyabean' 'Sunflower' 'Linseed' 'Safflower' 'Small millets'\n",
            " 'Rapeseed &Mustard' 'other oilseeds' 'Banana' 'Grapes' 'Mango' 'Onion'\n",
            " 'Tomato' 'Tobacco']\n",
            "column name : area\n",
            "No. of column : 2031\n",
            "[ 17600 274100  40800 ... 111800 421000 306000]\n",
            "column name : temperature\n",
            "No. of column : 12495\n",
            "[20.16042589 21.9982986  21.77637662 ... 21.85173    21.56937972\n",
            " 21.66672306]\n",
            "column name : wind_speed\n",
            "No. of column : 12494\n",
            "[1.97647993 2.00052426 2.01974979 ... 2.02747602 2.00442115 2.00800283]\n",
            "column name : pressure\n",
            "No. of column : 12471\n",
            "[1015.193528 1014.184607 1015.053118 ... 1014.031903 1013.989125\n",
            " 1015.081619]\n",
            "column name : humidity\n",
            "No. of column : 12495\n",
            "[20.64323694 21.42231237 21.81056724 ... 20.05994526 21.83515825\n",
            " 21.75479904]\n",
            "column name : soil_type\n",
            "No. of column : 7\n",
            "['sandy' 'clay' 'chalky' 'peaty' 'silty' 'silt' 'loamy']\n",
            "column name : N\n",
            "No. of column : 126\n",
            "[9.00000e+00 0.00000e+00 3.82500e+01 5.64000e+00 4.17000e+01 7.47600e+00\n",
            " 2.10000e+00 3.39200e+00 2.80000e+00 2.89800e+00 9.01370e+02 7.70400e+00\n",
            " 5.05680e+01 8.22000e+00 4.65000e-01 1.02400e+01 4.14960e+01 7.84000e+00\n",
            " 7.50400e+00 2.89600e+00 3.15000e+00 3.45000e+00 9.02566e+02 6.51600e+00\n",
            " 5.92200e+01 7.68000e+00 3.25500e+00 1.05000e+01 3.97200e+01 8.00800e+00\n",
            " 5.82400e+00 3.00800e+00 2.92100e+00 9.28372e+02 6.93000e+00 5.20800e+01\n",
            " 8.60000e+00 2.16000e+00 3.13000e+00 3.86880e+01 7.58800e+00 1.59600e+00\n",
            " 2.52500e+00 3.91000e+00 9.20828e+02 7.99200e+00 4.09080e+01 7.66000e+00\n",
            " 9.75000e-01 3.61000e+00 3.77040e+01 4.62000e+00 2.42200e+00 2.28800e+00\n",
            " 1.77100e+00 8.90974e+02 6.85800e+00 2.71950e+01 7.46000e+00 4.50000e-02\n",
            " 5.30000e+00 3.68400e+01 3.27600e+00 1.28800e+00 1.32500e+00 5.98000e+00\n",
            " 7.40002e+02 3.25080e+01 7.37100e+00 1.68200e+01 5.70000e+00 6.68000e+00\n",
            " 7.65600e+00 1.14800e+00 2.24000e-01 5.00000e-01 5.98552e+02 7.18200e+00\n",
            " 3.57420e+01 8.74000e+00 6.15000e-01 4.53000e+00 3.92040e+01 4.28400e+00\n",
            " 1.50100e+00 1.72800e+00 2.65000e+00 3.49600e+00 8.34164e+02 4.06800e+00\n",
            " 4.93290e+01 6.38000e+00 8.25000e-01 2.08000e+00 2.25720e+01 8.87600e+00\n",
            " 1.60000e+00 1.77500e+00 2.48400e+00 8.43640e+02 6.39000e+00 5.06730e+01\n",
            " 8.54000e+00 2.53500e+00 7.36000e+00 1.60080e+01 6.44000e+00 3.30400e+00\n",
            " 1.52000e-01 4.00000e+00 1.50000e+00 1.05800e+01 9.06844e+02 6.21000e+00\n",
            " 7.10640e+01 8.46000e+00 1.95000e+00 1.00900e+01 3.88920e+01 5.09600e+00\n",
            " 3.84000e+00 2.77500e+00 4.53100e+00 9.16136e+02 9.63000e+00 5.60700e+01]\n",
            "column name : P\n",
            "No. of column : 106\n",
            "[9.00000e+00 0.00000e+00 3.82500e+01 2.31840e+01 1.46640e+01 1.11200e+02\n",
            " 7.47600e+00 5.25000e+00 4.24000e+00 2.89800e+00 1.96880e+01 8.22000e+00\n",
            " 4.65000e-01 2.68320e+01 2.66240e+01 1.10656e+02 7.84000e+00 1.87600e+01\n",
            " 3.62000e+00 3.45000e+00 1.66520e+01 7.68000e+00 3.25500e+00 2.80480e+01\n",
            " 2.73000e+01 1.05920e+02 8.00800e+00 1.45600e+01 3.76000e+00 2.92100e+00\n",
            " 1.77100e+01 8.60000e+00 2.16000e+00 2.00800e+01 8.13800e+00 1.03168e+02\n",
            " 7.58800e+00 3.99000e+00 3.50000e+00 3.91000e+00 2.04240e+01 7.66000e+00\n",
            " 9.75000e-01 1.57120e+01 9.38600e+00 1.00544e+02 4.62000e+00 6.05500e+00\n",
            " 2.86000e+00 1.77100e+00 1.75260e+01 7.46000e+00 4.50000e-02 1.03680e+01\n",
            " 1.37800e+01 9.82400e+01 3.27600e+00 3.22000e+00 5.98000e+00 8.30760e+01\n",
            " 1.68200e+01 5.70000e+00 3.60000e+01 1.73680e+01 2.04160e+01 1.14800e+00\n",
            " 2.80000e-01 1.83540e+01 8.74000e+00 6.15000e-01 3.10400e+00 1.17780e+01\n",
            " 1.04544e+02 4.28400e+00 1.50100e+00 3.49600e+00 1.03960e+01 6.38000e+00\n",
            " 8.25000e-01 5.18400e+00 5.40800e+00 6.01920e+01 8.87600e+00 2.00000e+00\n",
            " 2.48400e+00 1.63300e+01 8.54000e+00 2.53500e+00 2.51360e+01 1.91360e+01\n",
            " 4.26880e+01 6.44000e+00 8.26000e+00 1.52000e-01 5.00000e+00 1.05800e+01\n",
            " 1.58700e+01 8.46000e+00 1.95000e+00 1.41280e+01 2.62340e+01 1.03712e+02\n",
            " 5.09600e+00 4.80000e+00 4.53100e+00 2.46100e+01]\n",
            "column name : K\n",
            "No. of column : 43\n",
            "[0.0000e+00 3.8250e+01 1.4664e+01 5.5600e+01 2.1000e+00 4.6500e-01\n",
            " 2.6624e+01 5.5328e+01 7.5040e+00 3.2550e+00 2.7300e+01 5.2960e+01\n",
            " 5.8240e+00 2.1600e+00 8.1380e+00 5.1584e+01 1.5960e+00 9.7500e-01\n",
            " 9.3860e+00 5.0272e+01 2.4220e+00 4.5000e-02 1.3780e+01 4.9120e+01\n",
            " 1.2880e+00 5.7000e+00 1.7368e+01 1.0208e+01 6.1500e-01 1.1778e+01\n",
            " 5.2272e+01 1.5010e+00 8.2500e-01 5.4080e+00 3.0096e+01 2.5350e+00\n",
            " 1.9136e+01 2.1344e+01 3.3040e+00 1.5200e-01 1.9500e+00 2.6234e+01\n",
            " 5.1856e+01]\n",
            "column name : production\n",
            "No. of column : 2462\n",
            "[  6300. 152800.  18600. ... 490700. 287400. 553700.]\n",
            "column name : Yield\n",
            "No. of column : 6304\n",
            "[ 0.35795455  0.55746078  0.45588235 ...  0.9209622   1.22340425\n",
            " 68.35802469]\n"
          ]
        }
      ]
    },
    {
      "cell_type": "code",
      "source": [
        "sum_maxp = data[\"production\"].sum()\n",
        "data[\"percent_of_production\"] = data[\"production\"].map(lambda x:(x/sum_maxp)*100)"
      ],
      "metadata": {
        "id": "4BpysohjNIv9"
      },
      "execution_count": null,
      "outputs": []
    },
    {
      "cell_type": "code",
      "source": [
        "data"
      ],
      "metadata": {
        "colab": {
          "base_uri": "https://localhost:8080/",
          "height": 505
        },
        "id": "Rxd-fnEQNTqK",
        "outputId": "a1155bf2-7aa0-43c7-980a-e18e0d7b582f"
      },
      "execution_count": null,
      "outputs": [
        {
          "output_type": "execute_result",
          "data": {
            "text/plain": [
              "       Unnamed: 0  state_names district_names  crop_year season_names  \\\n",
              "0          125192  Maharashtra     AHMEDNAGAR       1997  Kharif        \n",
              "1          125193  Maharashtra     AHMEDNAGAR       1997  Kharif        \n",
              "2          125194  Maharashtra     AHMEDNAGAR       1997  Kharif        \n",
              "3          125195  Maharashtra     AHMEDNAGAR       1997  Kharif        \n",
              "4          125196  Maharashtra     AHMEDNAGAR       1997  Kharif        \n",
              "...           ...          ...            ...        ...          ...   \n",
              "12622      137814  Maharashtra       YAVATMAL       2014  Rabi          \n",
              "12623      137815  Maharashtra       YAVATMAL       2014  Rabi          \n",
              "12624      137816  Maharashtra       YAVATMAL       2014  Rabi          \n",
              "12625      137817  Maharashtra       YAVATMAL       2014  Summer        \n",
              "12626      137818  Maharashtra       YAVATMAL       2014  Whole Year    \n",
              "\n",
              "      crop_names    area  temperature  wind_speed     pressure   humidity  \\\n",
              "0      Arhar/Tur   17600    20.160426    1.976480  1015.193528  20.643237   \n",
              "1          Bajra  274100    21.998299    2.000524  1014.184607  21.422312   \n",
              "2           Gram   40800    21.776377    2.019750  1015.053118  21.810567   \n",
              "3          Jowar     900    20.075734    1.974351  1015.170238  21.930206   \n",
              "4          Maize    4400    21.642354    2.075066  1015.702482  21.571403   \n",
              "...          ...     ...          ...         ...          ...        ...   \n",
              "12622      Jowar    4000    21.635879    2.000060  1014.302213  20.060662   \n",
              "12623      Maize    1300    21.709611    2.053609  1015.803912  21.263478   \n",
              "12624      Wheat   29100    21.851730    2.027476  1014.031903  20.059945   \n",
              "12625  Groundnut    9400    21.569380    2.004421  1013.989125  21.835158   \n",
              "12626  Sugarcane    8100    21.666723    2.008003  1015.081619  21.754799   \n",
              "\n",
              "      soil_type       N       P       K  production      Yield  \\\n",
              "0         sandy   9.000   9.000   0.000      6300.0   0.357955   \n",
              "1          clay   0.000   0.000   0.000    152800.0   0.557461   \n",
              "2        chalky  38.250  38.250  38.250     18600.0   0.455882   \n",
              "3          clay   0.000  23.184   0.000      1100.0   1.222222   \n",
              "4         sandy   5.640  14.664  14.664      4700.0   1.068182   \n",
              "...         ...     ...     ...     ...         ...        ...   \n",
              "12622     silty   7.840   7.840   0.000      3300.0   0.825000   \n",
              "12623      silt   7.504  18.760   7.504       200.0   0.153846   \n",
              "12624     sandy   0.000   0.000   0.000     26800.0   0.920962   \n",
              "12625    chalky   2.896   3.620   0.000     11500.0   1.223404   \n",
              "12626     loamy   3.150   0.000   0.000    553700.0  68.358025   \n",
              "\n",
              "       percent_of_production  \n",
              "0                   0.000499  \n",
              "1                   0.012092  \n",
              "2                   0.001472  \n",
              "3                   0.000087  \n",
              "4                   0.000372  \n",
              "...                      ...  \n",
              "12622               0.000261  \n",
              "12623               0.000016  \n",
              "12624               0.002121  \n",
              "12625               0.000910  \n",
              "12626               0.043818  \n",
              "\n",
              "[12495 rows x 18 columns]"
            ],
            "text/html": [
              "\n",
              "  <div id=\"df-475db582-df5d-4cd1-ac87-c56d0d2d7929\">\n",
              "    <div class=\"colab-df-container\">\n",
              "      <div>\n",
              "<style scoped>\n",
              "    .dataframe tbody tr th:only-of-type {\n",
              "        vertical-align: middle;\n",
              "    }\n",
              "\n",
              "    .dataframe tbody tr th {\n",
              "        vertical-align: top;\n",
              "    }\n",
              "\n",
              "    .dataframe thead th {\n",
              "        text-align: right;\n",
              "    }\n",
              "</style>\n",
              "<table border=\"1\" class=\"dataframe\">\n",
              "  <thead>\n",
              "    <tr style=\"text-align: right;\">\n",
              "      <th></th>\n",
              "      <th>Unnamed: 0</th>\n",
              "      <th>state_names</th>\n",
              "      <th>district_names</th>\n",
              "      <th>crop_year</th>\n",
              "      <th>season_names</th>\n",
              "      <th>crop_names</th>\n",
              "      <th>area</th>\n",
              "      <th>temperature</th>\n",
              "      <th>wind_speed</th>\n",
              "      <th>pressure</th>\n",
              "      <th>humidity</th>\n",
              "      <th>soil_type</th>\n",
              "      <th>N</th>\n",
              "      <th>P</th>\n",
              "      <th>K</th>\n",
              "      <th>production</th>\n",
              "      <th>Yield</th>\n",
              "      <th>percent_of_production</th>\n",
              "    </tr>\n",
              "  </thead>\n",
              "  <tbody>\n",
              "    <tr>\n",
              "      <th>0</th>\n",
              "      <td>125192</td>\n",
              "      <td>Maharashtra</td>\n",
              "      <td>AHMEDNAGAR</td>\n",
              "      <td>1997</td>\n",
              "      <td>Kharif</td>\n",
              "      <td>Arhar/Tur</td>\n",
              "      <td>17600</td>\n",
              "      <td>20.160426</td>\n",
              "      <td>1.976480</td>\n",
              "      <td>1015.193528</td>\n",
              "      <td>20.643237</td>\n",
              "      <td>sandy</td>\n",
              "      <td>9.000</td>\n",
              "      <td>9.000</td>\n",
              "      <td>0.000</td>\n",
              "      <td>6300.0</td>\n",
              "      <td>0.357955</td>\n",
              "      <td>0.000499</td>\n",
              "    </tr>\n",
              "    <tr>\n",
              "      <th>1</th>\n",
              "      <td>125193</td>\n",
              "      <td>Maharashtra</td>\n",
              "      <td>AHMEDNAGAR</td>\n",
              "      <td>1997</td>\n",
              "      <td>Kharif</td>\n",
              "      <td>Bajra</td>\n",
              "      <td>274100</td>\n",
              "      <td>21.998299</td>\n",
              "      <td>2.000524</td>\n",
              "      <td>1014.184607</td>\n",
              "      <td>21.422312</td>\n",
              "      <td>clay</td>\n",
              "      <td>0.000</td>\n",
              "      <td>0.000</td>\n",
              "      <td>0.000</td>\n",
              "      <td>152800.0</td>\n",
              "      <td>0.557461</td>\n",
              "      <td>0.012092</td>\n",
              "    </tr>\n",
              "    <tr>\n",
              "      <th>2</th>\n",
              "      <td>125194</td>\n",
              "      <td>Maharashtra</td>\n",
              "      <td>AHMEDNAGAR</td>\n",
              "      <td>1997</td>\n",
              "      <td>Kharif</td>\n",
              "      <td>Gram</td>\n",
              "      <td>40800</td>\n",
              "      <td>21.776377</td>\n",
              "      <td>2.019750</td>\n",
              "      <td>1015.053118</td>\n",
              "      <td>21.810567</td>\n",
              "      <td>chalky</td>\n",
              "      <td>38.250</td>\n",
              "      <td>38.250</td>\n",
              "      <td>38.250</td>\n",
              "      <td>18600.0</td>\n",
              "      <td>0.455882</td>\n",
              "      <td>0.001472</td>\n",
              "    </tr>\n",
              "    <tr>\n",
              "      <th>3</th>\n",
              "      <td>125195</td>\n",
              "      <td>Maharashtra</td>\n",
              "      <td>AHMEDNAGAR</td>\n",
              "      <td>1997</td>\n",
              "      <td>Kharif</td>\n",
              "      <td>Jowar</td>\n",
              "      <td>900</td>\n",
              "      <td>20.075734</td>\n",
              "      <td>1.974351</td>\n",
              "      <td>1015.170238</td>\n",
              "      <td>21.930206</td>\n",
              "      <td>clay</td>\n",
              "      <td>0.000</td>\n",
              "      <td>23.184</td>\n",
              "      <td>0.000</td>\n",
              "      <td>1100.0</td>\n",
              "      <td>1.222222</td>\n",
              "      <td>0.000087</td>\n",
              "    </tr>\n",
              "    <tr>\n",
              "      <th>4</th>\n",
              "      <td>125196</td>\n",
              "      <td>Maharashtra</td>\n",
              "      <td>AHMEDNAGAR</td>\n",
              "      <td>1997</td>\n",
              "      <td>Kharif</td>\n",
              "      <td>Maize</td>\n",
              "      <td>4400</td>\n",
              "      <td>21.642354</td>\n",
              "      <td>2.075066</td>\n",
              "      <td>1015.702482</td>\n",
              "      <td>21.571403</td>\n",
              "      <td>sandy</td>\n",
              "      <td>5.640</td>\n",
              "      <td>14.664</td>\n",
              "      <td>14.664</td>\n",
              "      <td>4700.0</td>\n",
              "      <td>1.068182</td>\n",
              "      <td>0.000372</td>\n",
              "    </tr>\n",
              "    <tr>\n",
              "      <th>...</th>\n",
              "      <td>...</td>\n",
              "      <td>...</td>\n",
              "      <td>...</td>\n",
              "      <td>...</td>\n",
              "      <td>...</td>\n",
              "      <td>...</td>\n",
              "      <td>...</td>\n",
              "      <td>...</td>\n",
              "      <td>...</td>\n",
              "      <td>...</td>\n",
              "      <td>...</td>\n",
              "      <td>...</td>\n",
              "      <td>...</td>\n",
              "      <td>...</td>\n",
              "      <td>...</td>\n",
              "      <td>...</td>\n",
              "      <td>...</td>\n",
              "      <td>...</td>\n",
              "    </tr>\n",
              "    <tr>\n",
              "      <th>12622</th>\n",
              "      <td>137814</td>\n",
              "      <td>Maharashtra</td>\n",
              "      <td>YAVATMAL</td>\n",
              "      <td>2014</td>\n",
              "      <td>Rabi</td>\n",
              "      <td>Jowar</td>\n",
              "      <td>4000</td>\n",
              "      <td>21.635879</td>\n",
              "      <td>2.000060</td>\n",
              "      <td>1014.302213</td>\n",
              "      <td>20.060662</td>\n",
              "      <td>silty</td>\n",
              "      <td>7.840</td>\n",
              "      <td>7.840</td>\n",
              "      <td>0.000</td>\n",
              "      <td>3300.0</td>\n",
              "      <td>0.825000</td>\n",
              "      <td>0.000261</td>\n",
              "    </tr>\n",
              "    <tr>\n",
              "      <th>12623</th>\n",
              "      <td>137815</td>\n",
              "      <td>Maharashtra</td>\n",
              "      <td>YAVATMAL</td>\n",
              "      <td>2014</td>\n",
              "      <td>Rabi</td>\n",
              "      <td>Maize</td>\n",
              "      <td>1300</td>\n",
              "      <td>21.709611</td>\n",
              "      <td>2.053609</td>\n",
              "      <td>1015.803912</td>\n",
              "      <td>21.263478</td>\n",
              "      <td>silt</td>\n",
              "      <td>7.504</td>\n",
              "      <td>18.760</td>\n",
              "      <td>7.504</td>\n",
              "      <td>200.0</td>\n",
              "      <td>0.153846</td>\n",
              "      <td>0.000016</td>\n",
              "    </tr>\n",
              "    <tr>\n",
              "      <th>12624</th>\n",
              "      <td>137816</td>\n",
              "      <td>Maharashtra</td>\n",
              "      <td>YAVATMAL</td>\n",
              "      <td>2014</td>\n",
              "      <td>Rabi</td>\n",
              "      <td>Wheat</td>\n",
              "      <td>29100</td>\n",
              "      <td>21.851730</td>\n",
              "      <td>2.027476</td>\n",
              "      <td>1014.031903</td>\n",
              "      <td>20.059945</td>\n",
              "      <td>sandy</td>\n",
              "      <td>0.000</td>\n",
              "      <td>0.000</td>\n",
              "      <td>0.000</td>\n",
              "      <td>26800.0</td>\n",
              "      <td>0.920962</td>\n",
              "      <td>0.002121</td>\n",
              "    </tr>\n",
              "    <tr>\n",
              "      <th>12625</th>\n",
              "      <td>137817</td>\n",
              "      <td>Maharashtra</td>\n",
              "      <td>YAVATMAL</td>\n",
              "      <td>2014</td>\n",
              "      <td>Summer</td>\n",
              "      <td>Groundnut</td>\n",
              "      <td>9400</td>\n",
              "      <td>21.569380</td>\n",
              "      <td>2.004421</td>\n",
              "      <td>1013.989125</td>\n",
              "      <td>21.835158</td>\n",
              "      <td>chalky</td>\n",
              "      <td>2.896</td>\n",
              "      <td>3.620</td>\n",
              "      <td>0.000</td>\n",
              "      <td>11500.0</td>\n",
              "      <td>1.223404</td>\n",
              "      <td>0.000910</td>\n",
              "    </tr>\n",
              "    <tr>\n",
              "      <th>12626</th>\n",
              "      <td>137818</td>\n",
              "      <td>Maharashtra</td>\n",
              "      <td>YAVATMAL</td>\n",
              "      <td>2014</td>\n",
              "      <td>Whole Year</td>\n",
              "      <td>Sugarcane</td>\n",
              "      <td>8100</td>\n",
              "      <td>21.666723</td>\n",
              "      <td>2.008003</td>\n",
              "      <td>1015.081619</td>\n",
              "      <td>21.754799</td>\n",
              "      <td>loamy</td>\n",
              "      <td>3.150</td>\n",
              "      <td>0.000</td>\n",
              "      <td>0.000</td>\n",
              "      <td>553700.0</td>\n",
              "      <td>68.358025</td>\n",
              "      <td>0.043818</td>\n",
              "    </tr>\n",
              "  </tbody>\n",
              "</table>\n",
              "<p>12495 rows × 18 columns</p>\n",
              "</div>\n",
              "      <button class=\"colab-df-convert\" onclick=\"convertToInteractive('df-475db582-df5d-4cd1-ac87-c56d0d2d7929')\"\n",
              "              title=\"Convert this dataframe to an interactive table.\"\n",
              "              style=\"display:none;\">\n",
              "        \n",
              "  <svg xmlns=\"http://www.w3.org/2000/svg\" height=\"24px\"viewBox=\"0 0 24 24\"\n",
              "       width=\"24px\">\n",
              "    <path d=\"M0 0h24v24H0V0z\" fill=\"none\"/>\n",
              "    <path d=\"M18.56 5.44l.94 2.06.94-2.06 2.06-.94-2.06-.94-.94-2.06-.94 2.06-2.06.94zm-11 1L8.5 8.5l.94-2.06 2.06-.94-2.06-.94L8.5 2.5l-.94 2.06-2.06.94zm10 10l.94 2.06.94-2.06 2.06-.94-2.06-.94-.94-2.06-.94 2.06-2.06.94z\"/><path d=\"M17.41 7.96l-1.37-1.37c-.4-.4-.92-.59-1.43-.59-.52 0-1.04.2-1.43.59L10.3 9.45l-7.72 7.72c-.78.78-.78 2.05 0 2.83L4 21.41c.39.39.9.59 1.41.59.51 0 1.02-.2 1.41-.59l7.78-7.78 2.81-2.81c.8-.78.8-2.07 0-2.86zM5.41 20L4 18.59l7.72-7.72 1.47 1.35L5.41 20z\"/>\n",
              "  </svg>\n",
              "      </button>\n",
              "      \n",
              "  <style>\n",
              "    .colab-df-container {\n",
              "      display:flex;\n",
              "      flex-wrap:wrap;\n",
              "      gap: 12px;\n",
              "    }\n",
              "\n",
              "    .colab-df-convert {\n",
              "      background-color: #E8F0FE;\n",
              "      border: none;\n",
              "      border-radius: 50%;\n",
              "      cursor: pointer;\n",
              "      display: none;\n",
              "      fill: #1967D2;\n",
              "      height: 32px;\n",
              "      padding: 0 0 0 0;\n",
              "      width: 32px;\n",
              "    }\n",
              "\n",
              "    .colab-df-convert:hover {\n",
              "      background-color: #E2EBFA;\n",
              "      box-shadow: 0px 1px 2px rgba(60, 64, 67, 0.3), 0px 1px 3px 1px rgba(60, 64, 67, 0.15);\n",
              "      fill: #174EA6;\n",
              "    }\n",
              "\n",
              "    [theme=dark] .colab-df-convert {\n",
              "      background-color: #3B4455;\n",
              "      fill: #D2E3FC;\n",
              "    }\n",
              "\n",
              "    [theme=dark] .colab-df-convert:hover {\n",
              "      background-color: #434B5C;\n",
              "      box-shadow: 0px 1px 3px 1px rgba(0, 0, 0, 0.15);\n",
              "      filter: drop-shadow(0px 1px 2px rgba(0, 0, 0, 0.3));\n",
              "      fill: #FFFFFF;\n",
              "    }\n",
              "  </style>\n",
              "\n",
              "      <script>\n",
              "        const buttonEl =\n",
              "          document.querySelector('#df-475db582-df5d-4cd1-ac87-c56d0d2d7929 button.colab-df-convert');\n",
              "        buttonEl.style.display =\n",
              "          google.colab.kernel.accessAllowed ? 'block' : 'none';\n",
              "\n",
              "        async function convertToInteractive(key) {\n",
              "          const element = document.querySelector('#df-475db582-df5d-4cd1-ac87-c56d0d2d7929');\n",
              "          const dataTable =\n",
              "            await google.colab.kernel.invokeFunction('convertToInteractive',\n",
              "                                                     [key], {});\n",
              "          if (!dataTable) return;\n",
              "\n",
              "          const docLinkHtml = 'Like what you see? Visit the ' +\n",
              "            '<a target=\"_blank\" href=https://colab.research.google.com/notebooks/data_table.ipynb>data table notebook</a>'\n",
              "            + ' to learn more about interactive tables.';\n",
              "          element.innerHTML = '';\n",
              "          dataTable['output_type'] = 'display_data';\n",
              "          await google.colab.output.renderOutput(dataTable, element);\n",
              "          const docLink = document.createElement('div');\n",
              "          docLink.innerHTML = docLinkHtml;\n",
              "          element.appendChild(docLink);\n",
              "        }\n",
              "      </script>\n",
              "    </div>\n",
              "  </div>\n",
              "  "
            ]
          },
          "metadata": {},
          "execution_count": 213
        }
      ]
    },
    {
      "cell_type": "code",
      "source": [
        "data.groupby(\"season_names\",axis=0).agg({\"production\":np.sum})"
      ],
      "metadata": {
        "colab": {
          "base_uri": "https://localhost:8080/",
          "height": 237
        },
        "id": "X9ka9Up1PP7o",
        "outputId": "d741ecd6-a490-495d-c719-34713715fa62"
      },
      "execution_count": null,
      "outputs": [
        {
          "output_type": "execute_result",
          "data": {
            "text/plain": [
              "               production\n",
              "season_names             \n",
              "Autumn            18582.0\n",
              "Kharif        536463806.7\n",
              "Rabi           70912135.5\n",
              "Summer          2957812.0\n",
              "Whole Year    653287157.0"
            ],
            "text/html": [
              "\n",
              "  <div id=\"df-910e6331-ea1d-48f8-b8a1-2d1c4820be1f\">\n",
              "    <div class=\"colab-df-container\">\n",
              "      <div>\n",
              "<style scoped>\n",
              "    .dataframe tbody tr th:only-of-type {\n",
              "        vertical-align: middle;\n",
              "    }\n",
              "\n",
              "    .dataframe tbody tr th {\n",
              "        vertical-align: top;\n",
              "    }\n",
              "\n",
              "    .dataframe thead th {\n",
              "        text-align: right;\n",
              "    }\n",
              "</style>\n",
              "<table border=\"1\" class=\"dataframe\">\n",
              "  <thead>\n",
              "    <tr style=\"text-align: right;\">\n",
              "      <th></th>\n",
              "      <th>production</th>\n",
              "    </tr>\n",
              "    <tr>\n",
              "      <th>season_names</th>\n",
              "      <th></th>\n",
              "    </tr>\n",
              "  </thead>\n",
              "  <tbody>\n",
              "    <tr>\n",
              "      <th>Autumn</th>\n",
              "      <td>18582.0</td>\n",
              "    </tr>\n",
              "    <tr>\n",
              "      <th>Kharif</th>\n",
              "      <td>536463806.7</td>\n",
              "    </tr>\n",
              "    <tr>\n",
              "      <th>Rabi</th>\n",
              "      <td>70912135.5</td>\n",
              "    </tr>\n",
              "    <tr>\n",
              "      <th>Summer</th>\n",
              "      <td>2957812.0</td>\n",
              "    </tr>\n",
              "    <tr>\n",
              "      <th>Whole Year</th>\n",
              "      <td>653287157.0</td>\n",
              "    </tr>\n",
              "  </tbody>\n",
              "</table>\n",
              "</div>\n",
              "      <button class=\"colab-df-convert\" onclick=\"convertToInteractive('df-910e6331-ea1d-48f8-b8a1-2d1c4820be1f')\"\n",
              "              title=\"Convert this dataframe to an interactive table.\"\n",
              "              style=\"display:none;\">\n",
              "        \n",
              "  <svg xmlns=\"http://www.w3.org/2000/svg\" height=\"24px\"viewBox=\"0 0 24 24\"\n",
              "       width=\"24px\">\n",
              "    <path d=\"M0 0h24v24H0V0z\" fill=\"none\"/>\n",
              "    <path d=\"M18.56 5.44l.94 2.06.94-2.06 2.06-.94-2.06-.94-.94-2.06-.94 2.06-2.06.94zm-11 1L8.5 8.5l.94-2.06 2.06-.94-2.06-.94L8.5 2.5l-.94 2.06-2.06.94zm10 10l.94 2.06.94-2.06 2.06-.94-2.06-.94-.94-2.06-.94 2.06-2.06.94z\"/><path d=\"M17.41 7.96l-1.37-1.37c-.4-.4-.92-.59-1.43-.59-.52 0-1.04.2-1.43.59L10.3 9.45l-7.72 7.72c-.78.78-.78 2.05 0 2.83L4 21.41c.39.39.9.59 1.41.59.51 0 1.02-.2 1.41-.59l7.78-7.78 2.81-2.81c.8-.78.8-2.07 0-2.86zM5.41 20L4 18.59l7.72-7.72 1.47 1.35L5.41 20z\"/>\n",
              "  </svg>\n",
              "      </button>\n",
              "      \n",
              "  <style>\n",
              "    .colab-df-container {\n",
              "      display:flex;\n",
              "      flex-wrap:wrap;\n",
              "      gap: 12px;\n",
              "    }\n",
              "\n",
              "    .colab-df-convert {\n",
              "      background-color: #E8F0FE;\n",
              "      border: none;\n",
              "      border-radius: 50%;\n",
              "      cursor: pointer;\n",
              "      display: none;\n",
              "      fill: #1967D2;\n",
              "      height: 32px;\n",
              "      padding: 0 0 0 0;\n",
              "      width: 32px;\n",
              "    }\n",
              "\n",
              "    .colab-df-convert:hover {\n",
              "      background-color: #E2EBFA;\n",
              "      box-shadow: 0px 1px 2px rgba(60, 64, 67, 0.3), 0px 1px 3px 1px rgba(60, 64, 67, 0.15);\n",
              "      fill: #174EA6;\n",
              "    }\n",
              "\n",
              "    [theme=dark] .colab-df-convert {\n",
              "      background-color: #3B4455;\n",
              "      fill: #D2E3FC;\n",
              "    }\n",
              "\n",
              "    [theme=dark] .colab-df-convert:hover {\n",
              "      background-color: #434B5C;\n",
              "      box-shadow: 0px 1px 3px 1px rgba(0, 0, 0, 0.15);\n",
              "      filter: drop-shadow(0px 1px 2px rgba(0, 0, 0, 0.3));\n",
              "      fill: #FFFFFF;\n",
              "    }\n",
              "  </style>\n",
              "\n",
              "      <script>\n",
              "        const buttonEl =\n",
              "          document.querySelector('#df-910e6331-ea1d-48f8-b8a1-2d1c4820be1f button.colab-df-convert');\n",
              "        buttonEl.style.display =\n",
              "          google.colab.kernel.accessAllowed ? 'block' : 'none';\n",
              "\n",
              "        async function convertToInteractive(key) {\n",
              "          const element = document.querySelector('#df-910e6331-ea1d-48f8-b8a1-2d1c4820be1f');\n",
              "          const dataTable =\n",
              "            await google.colab.kernel.invokeFunction('convertToInteractive',\n",
              "                                                     [key], {});\n",
              "          if (!dataTable) return;\n",
              "\n",
              "          const docLinkHtml = 'Like what you see? Visit the ' +\n",
              "            '<a target=\"_blank\" href=https://colab.research.google.com/notebooks/data_table.ipynb>data table notebook</a>'\n",
              "            + ' to learn more about interactive tables.';\n",
              "          element.innerHTML = '';\n",
              "          dataTable['output_type'] = 'display_data';\n",
              "          await google.colab.output.renderOutput(dataTable, element);\n",
              "          const docLink = document.createElement('div');\n",
              "          docLink.innerHTML = docLinkHtml;\n",
              "          element.appendChild(docLink);\n",
              "        }\n",
              "      </script>\n",
              "    </div>\n",
              "  </div>\n",
              "  "
            ]
          },
          "metadata": {},
          "execution_count": 214
        }
      ]
    },
    {
      "cell_type": "code",
      "source": [
        "data[\"crop_names\"].value_counts()[:5]"
      ],
      "metadata": {
        "colab": {
          "base_uri": "https://localhost:8080/"
        },
        "id": "cGyLMHYoPbIq",
        "outputId": "86be4aa6-0736-4d2c-90e4-1c80ddd4db6d"
      },
      "execution_count": null,
      "outputs": [
        {
          "output_type": "execute_result",
          "data": {
            "text/plain": [
              "Maize        1052\n",
              "Sunflower     946\n",
              "Jowar         875\n",
              "Groundnut     868\n",
              "Rice          652\n",
              "Name: crop_names, dtype: int64"
            ]
          },
          "metadata": {},
          "execution_count": 215
        }
      ]
    },
    {
      "cell_type": "code",
      "source": [
        "top_crop_pro = data.groupby(\"crop_names\")[\"production\"].sum().reset_index().sort_values(by='production',ascending=False)\n",
        "top_crop_pro[:5]"
      ],
      "metadata": {
        "colab": {
          "base_uri": "https://localhost:8080/",
          "height": 206
        },
        "id": "TB0p1oCVPptD",
        "outputId": "476fb7f3-95df-4837-e180-827a017ca14e"
      },
      "execution_count": null,
      "outputs": [
        {
          "output_type": "execute_result",
          "data": {
            "text/plain": [
              "      crop_names   production\n",
              "26     Sugarcane  938485965.0\n",
              "4   Cotton(lint)   71786349.0\n",
              "8          Jowar   55018576.0\n",
              "21          Rice   43008628.0\n",
              "25      Soyabean   39994352.0"
            ],
            "text/html": [
              "\n",
              "  <div id=\"df-fd5bf2b9-1fe4-4e67-b5a0-246b0e59071e\">\n",
              "    <div class=\"colab-df-container\">\n",
              "      <div>\n",
              "<style scoped>\n",
              "    .dataframe tbody tr th:only-of-type {\n",
              "        vertical-align: middle;\n",
              "    }\n",
              "\n",
              "    .dataframe tbody tr th {\n",
              "        vertical-align: top;\n",
              "    }\n",
              "\n",
              "    .dataframe thead th {\n",
              "        text-align: right;\n",
              "    }\n",
              "</style>\n",
              "<table border=\"1\" class=\"dataframe\">\n",
              "  <thead>\n",
              "    <tr style=\"text-align: right;\">\n",
              "      <th></th>\n",
              "      <th>crop_names</th>\n",
              "      <th>production</th>\n",
              "    </tr>\n",
              "  </thead>\n",
              "  <tbody>\n",
              "    <tr>\n",
              "      <th>26</th>\n",
              "      <td>Sugarcane</td>\n",
              "      <td>938485965.0</td>\n",
              "    </tr>\n",
              "    <tr>\n",
              "      <th>4</th>\n",
              "      <td>Cotton(lint)</td>\n",
              "      <td>71786349.0</td>\n",
              "    </tr>\n",
              "    <tr>\n",
              "      <th>8</th>\n",
              "      <td>Jowar</td>\n",
              "      <td>55018576.0</td>\n",
              "    </tr>\n",
              "    <tr>\n",
              "      <th>21</th>\n",
              "      <td>Rice</td>\n",
              "      <td>43008628.0</td>\n",
              "    </tr>\n",
              "    <tr>\n",
              "      <th>25</th>\n",
              "      <td>Soyabean</td>\n",
              "      <td>39994352.0</td>\n",
              "    </tr>\n",
              "  </tbody>\n",
              "</table>\n",
              "</div>\n",
              "      <button class=\"colab-df-convert\" onclick=\"convertToInteractive('df-fd5bf2b9-1fe4-4e67-b5a0-246b0e59071e')\"\n",
              "              title=\"Convert this dataframe to an interactive table.\"\n",
              "              style=\"display:none;\">\n",
              "        \n",
              "  <svg xmlns=\"http://www.w3.org/2000/svg\" height=\"24px\"viewBox=\"0 0 24 24\"\n",
              "       width=\"24px\">\n",
              "    <path d=\"M0 0h24v24H0V0z\" fill=\"none\"/>\n",
              "    <path d=\"M18.56 5.44l.94 2.06.94-2.06 2.06-.94-2.06-.94-.94-2.06-.94 2.06-2.06.94zm-11 1L8.5 8.5l.94-2.06 2.06-.94-2.06-.94L8.5 2.5l-.94 2.06-2.06.94zm10 10l.94 2.06.94-2.06 2.06-.94-2.06-.94-.94-2.06-.94 2.06-2.06.94z\"/><path d=\"M17.41 7.96l-1.37-1.37c-.4-.4-.92-.59-1.43-.59-.52 0-1.04.2-1.43.59L10.3 9.45l-7.72 7.72c-.78.78-.78 2.05 0 2.83L4 21.41c.39.39.9.59 1.41.59.51 0 1.02-.2 1.41-.59l7.78-7.78 2.81-2.81c.8-.78.8-2.07 0-2.86zM5.41 20L4 18.59l7.72-7.72 1.47 1.35L5.41 20z\"/>\n",
              "  </svg>\n",
              "      </button>\n",
              "      \n",
              "  <style>\n",
              "    .colab-df-container {\n",
              "      display:flex;\n",
              "      flex-wrap:wrap;\n",
              "      gap: 12px;\n",
              "    }\n",
              "\n",
              "    .colab-df-convert {\n",
              "      background-color: #E8F0FE;\n",
              "      border: none;\n",
              "      border-radius: 50%;\n",
              "      cursor: pointer;\n",
              "      display: none;\n",
              "      fill: #1967D2;\n",
              "      height: 32px;\n",
              "      padding: 0 0 0 0;\n",
              "      width: 32px;\n",
              "    }\n",
              "\n",
              "    .colab-df-convert:hover {\n",
              "      background-color: #E2EBFA;\n",
              "      box-shadow: 0px 1px 2px rgba(60, 64, 67, 0.3), 0px 1px 3px 1px rgba(60, 64, 67, 0.15);\n",
              "      fill: #174EA6;\n",
              "    }\n",
              "\n",
              "    [theme=dark] .colab-df-convert {\n",
              "      background-color: #3B4455;\n",
              "      fill: #D2E3FC;\n",
              "    }\n",
              "\n",
              "    [theme=dark] .colab-df-convert:hover {\n",
              "      background-color: #434B5C;\n",
              "      box-shadow: 0px 1px 3px 1px rgba(0, 0, 0, 0.15);\n",
              "      filter: drop-shadow(0px 1px 2px rgba(0, 0, 0, 0.3));\n",
              "      fill: #FFFFFF;\n",
              "    }\n",
              "  </style>\n",
              "\n",
              "      <script>\n",
              "        const buttonEl =\n",
              "          document.querySelector('#df-fd5bf2b9-1fe4-4e67-b5a0-246b0e59071e button.colab-df-convert');\n",
              "        buttonEl.style.display =\n",
              "          google.colab.kernel.accessAllowed ? 'block' : 'none';\n",
              "\n",
              "        async function convertToInteractive(key) {\n",
              "          const element = document.querySelector('#df-fd5bf2b9-1fe4-4e67-b5a0-246b0e59071e');\n",
              "          const dataTable =\n",
              "            await google.colab.kernel.invokeFunction('convertToInteractive',\n",
              "                                                     [key], {});\n",
              "          if (!dataTable) return;\n",
              "\n",
              "          const docLinkHtml = 'Like what you see? Visit the ' +\n",
              "            '<a target=\"_blank\" href=https://colab.research.google.com/notebooks/data_table.ipynb>data table notebook</a>'\n",
              "            + ' to learn more about interactive tables.';\n",
              "          element.innerHTML = '';\n",
              "          dataTable['output_type'] = 'display_data';\n",
              "          await google.colab.output.renderOutput(dataTable, element);\n",
              "          const docLink = document.createElement('div');\n",
              "          docLink.innerHTML = docLinkHtml;\n",
              "          element.appendChild(docLink);\n",
              "        }\n",
              "      </script>\n",
              "    </div>\n",
              "  </div>\n",
              "  "
            ]
          },
          "metadata": {},
          "execution_count": 216
        }
      ]
    },
    {
      "cell_type": "code",
      "source": [
        "rice_df = data[data[\"crop_names\"]==\"Rice\"]\n",
        "print(rice_df.shape)\n",
        "rice_df[:3]"
      ],
      "metadata": {
        "colab": {
          "base_uri": "https://localhost:8080/",
          "height": 242
        },
        "id": "uUVjSPB4Quz6",
        "outputId": "f9f7de25-4f15-4240-e7f0-d977ace2836d"
      },
      "execution_count": null,
      "outputs": [
        {
          "output_type": "stream",
          "name": "stdout",
          "text": [
            "(652, 18)\n"
          ]
        },
        {
          "output_type": "execute_result",
          "data": {
            "text/plain": [
              "    Unnamed: 0  state_names district_names  crop_year season_names crop_names  \\\n",
              "8       125200  Maharashtra     AHMEDNAGAR       1997  Kharif            Rice   \n",
              "30      125222  Maharashtra     AHMEDNAGAR       1998  Kharif            Rice   \n",
              "61      125253  Maharashtra     AHMEDNAGAR       1999  Kharif            Rice   \n",
              "\n",
              "    area  temperature  wind_speed     pressure   humidity soil_type        N  \\\n",
              "8   5900    21.629676    2.107639  1014.724315  20.920126    chalky    0.000   \n",
              "30  5600    20.837657    2.069813  1014.443876  21.373319     peaty    6.516   \n",
              "61  5700    20.770676    2.006089  1013.240450  20.705661     peaty  920.828   \n",
              "\n",
              "         P    K  production     Yield  percent_of_production  \n",
              "8    0.000  0.0      7200.0  1.220339               0.000570  \n",
              "30  16.652  0.0      7400.0  1.321429               0.000586  \n",
              "61   0.000  0.0      8000.0  1.403509               0.000633  "
            ],
            "text/html": [
              "\n",
              "  <div id=\"df-bd43d2e6-e5c6-4f14-ab5b-6a635c6d869e\">\n",
              "    <div class=\"colab-df-container\">\n",
              "      <div>\n",
              "<style scoped>\n",
              "    .dataframe tbody tr th:only-of-type {\n",
              "        vertical-align: middle;\n",
              "    }\n",
              "\n",
              "    .dataframe tbody tr th {\n",
              "        vertical-align: top;\n",
              "    }\n",
              "\n",
              "    .dataframe thead th {\n",
              "        text-align: right;\n",
              "    }\n",
              "</style>\n",
              "<table border=\"1\" class=\"dataframe\">\n",
              "  <thead>\n",
              "    <tr style=\"text-align: right;\">\n",
              "      <th></th>\n",
              "      <th>Unnamed: 0</th>\n",
              "      <th>state_names</th>\n",
              "      <th>district_names</th>\n",
              "      <th>crop_year</th>\n",
              "      <th>season_names</th>\n",
              "      <th>crop_names</th>\n",
              "      <th>area</th>\n",
              "      <th>temperature</th>\n",
              "      <th>wind_speed</th>\n",
              "      <th>pressure</th>\n",
              "      <th>humidity</th>\n",
              "      <th>soil_type</th>\n",
              "      <th>N</th>\n",
              "      <th>P</th>\n",
              "      <th>K</th>\n",
              "      <th>production</th>\n",
              "      <th>Yield</th>\n",
              "      <th>percent_of_production</th>\n",
              "    </tr>\n",
              "  </thead>\n",
              "  <tbody>\n",
              "    <tr>\n",
              "      <th>8</th>\n",
              "      <td>125200</td>\n",
              "      <td>Maharashtra</td>\n",
              "      <td>AHMEDNAGAR</td>\n",
              "      <td>1997</td>\n",
              "      <td>Kharif</td>\n",
              "      <td>Rice</td>\n",
              "      <td>5900</td>\n",
              "      <td>21.629676</td>\n",
              "      <td>2.107639</td>\n",
              "      <td>1014.724315</td>\n",
              "      <td>20.920126</td>\n",
              "      <td>chalky</td>\n",
              "      <td>0.000</td>\n",
              "      <td>0.000</td>\n",
              "      <td>0.0</td>\n",
              "      <td>7200.0</td>\n",
              "      <td>1.220339</td>\n",
              "      <td>0.000570</td>\n",
              "    </tr>\n",
              "    <tr>\n",
              "      <th>30</th>\n",
              "      <td>125222</td>\n",
              "      <td>Maharashtra</td>\n",
              "      <td>AHMEDNAGAR</td>\n",
              "      <td>1998</td>\n",
              "      <td>Kharif</td>\n",
              "      <td>Rice</td>\n",
              "      <td>5600</td>\n",
              "      <td>20.837657</td>\n",
              "      <td>2.069813</td>\n",
              "      <td>1014.443876</td>\n",
              "      <td>21.373319</td>\n",
              "      <td>peaty</td>\n",
              "      <td>6.516</td>\n",
              "      <td>16.652</td>\n",
              "      <td>0.0</td>\n",
              "      <td>7400.0</td>\n",
              "      <td>1.321429</td>\n",
              "      <td>0.000586</td>\n",
              "    </tr>\n",
              "    <tr>\n",
              "      <th>61</th>\n",
              "      <td>125253</td>\n",
              "      <td>Maharashtra</td>\n",
              "      <td>AHMEDNAGAR</td>\n",
              "      <td>1999</td>\n",
              "      <td>Kharif</td>\n",
              "      <td>Rice</td>\n",
              "      <td>5700</td>\n",
              "      <td>20.770676</td>\n",
              "      <td>2.006089</td>\n",
              "      <td>1013.240450</td>\n",
              "      <td>20.705661</td>\n",
              "      <td>peaty</td>\n",
              "      <td>920.828</td>\n",
              "      <td>0.000</td>\n",
              "      <td>0.0</td>\n",
              "      <td>8000.0</td>\n",
              "      <td>1.403509</td>\n",
              "      <td>0.000633</td>\n",
              "    </tr>\n",
              "  </tbody>\n",
              "</table>\n",
              "</div>\n",
              "      <button class=\"colab-df-convert\" onclick=\"convertToInteractive('df-bd43d2e6-e5c6-4f14-ab5b-6a635c6d869e')\"\n",
              "              title=\"Convert this dataframe to an interactive table.\"\n",
              "              style=\"display:none;\">\n",
              "        \n",
              "  <svg xmlns=\"http://www.w3.org/2000/svg\" height=\"24px\"viewBox=\"0 0 24 24\"\n",
              "       width=\"24px\">\n",
              "    <path d=\"M0 0h24v24H0V0z\" fill=\"none\"/>\n",
              "    <path d=\"M18.56 5.44l.94 2.06.94-2.06 2.06-.94-2.06-.94-.94-2.06-.94 2.06-2.06.94zm-11 1L8.5 8.5l.94-2.06 2.06-.94-2.06-.94L8.5 2.5l-.94 2.06-2.06.94zm10 10l.94 2.06.94-2.06 2.06-.94-2.06-.94-.94-2.06-.94 2.06-2.06.94z\"/><path d=\"M17.41 7.96l-1.37-1.37c-.4-.4-.92-.59-1.43-.59-.52 0-1.04.2-1.43.59L10.3 9.45l-7.72 7.72c-.78.78-.78 2.05 0 2.83L4 21.41c.39.39.9.59 1.41.59.51 0 1.02-.2 1.41-.59l7.78-7.78 2.81-2.81c.8-.78.8-2.07 0-2.86zM5.41 20L4 18.59l7.72-7.72 1.47 1.35L5.41 20z\"/>\n",
              "  </svg>\n",
              "      </button>\n",
              "      \n",
              "  <style>\n",
              "    .colab-df-container {\n",
              "      display:flex;\n",
              "      flex-wrap:wrap;\n",
              "      gap: 12px;\n",
              "    }\n",
              "\n",
              "    .colab-df-convert {\n",
              "      background-color: #E8F0FE;\n",
              "      border: none;\n",
              "      border-radius: 50%;\n",
              "      cursor: pointer;\n",
              "      display: none;\n",
              "      fill: #1967D2;\n",
              "      height: 32px;\n",
              "      padding: 0 0 0 0;\n",
              "      width: 32px;\n",
              "    }\n",
              "\n",
              "    .colab-df-convert:hover {\n",
              "      background-color: #E2EBFA;\n",
              "      box-shadow: 0px 1px 2px rgba(60, 64, 67, 0.3), 0px 1px 3px 1px rgba(60, 64, 67, 0.15);\n",
              "      fill: #174EA6;\n",
              "    }\n",
              "\n",
              "    [theme=dark] .colab-df-convert {\n",
              "      background-color: #3B4455;\n",
              "      fill: #D2E3FC;\n",
              "    }\n",
              "\n",
              "    [theme=dark] .colab-df-convert:hover {\n",
              "      background-color: #434B5C;\n",
              "      box-shadow: 0px 1px 3px 1px rgba(0, 0, 0, 0.15);\n",
              "      filter: drop-shadow(0px 1px 2px rgba(0, 0, 0, 0.3));\n",
              "      fill: #FFFFFF;\n",
              "    }\n",
              "  </style>\n",
              "\n",
              "      <script>\n",
              "        const buttonEl =\n",
              "          document.querySelector('#df-bd43d2e6-e5c6-4f14-ab5b-6a635c6d869e button.colab-df-convert');\n",
              "        buttonEl.style.display =\n",
              "          google.colab.kernel.accessAllowed ? 'block' : 'none';\n",
              "\n",
              "        async function convertToInteractive(key) {\n",
              "          const element = document.querySelector('#df-bd43d2e6-e5c6-4f14-ab5b-6a635c6d869e');\n",
              "          const dataTable =\n",
              "            await google.colab.kernel.invokeFunction('convertToInteractive',\n",
              "                                                     [key], {});\n",
              "          if (!dataTable) return;\n",
              "\n",
              "          const docLinkHtml = 'Like what you see? Visit the ' +\n",
              "            '<a target=\"_blank\" href=https://colab.research.google.com/notebooks/data_table.ipynb>data table notebook</a>'\n",
              "            + ' to learn more about interactive tables.';\n",
              "          element.innerHTML = '';\n",
              "          dataTable['output_type'] = 'display_data';\n",
              "          await google.colab.output.renderOutput(dataTable, element);\n",
              "          const docLink = document.createElement('div');\n",
              "          docLink.innerHTML = docLinkHtml;\n",
              "          element.appendChild(docLink);\n",
              "        }\n",
              "      </script>\n",
              "    </div>\n",
              "  </div>\n",
              "  "
            ]
          },
          "metadata": {},
          "execution_count": 217
        }
      ]
    },
    {
      "cell_type": "code",
      "source": [
        "sns.barplot(x=\"season_names\",y=\"production\",data=data)"
      ],
      "metadata": {
        "colab": {
          "base_uri": "https://localhost:8080/",
          "height": 482
        },
        "id": "k9J2ZobQSPcc",
        "outputId": "c90db5fd-cf9f-474c-fb7c-c95422a3da7d"
      },
      "execution_count": null,
      "outputs": [
        {
          "output_type": "execute_result",
          "data": {
            "text/plain": [
              "<Axes: xlabel='season_names', ylabel='production'>"
            ]
          },
          "metadata": {},
          "execution_count": 218
        },
        {
          "output_type": "display_data",
          "data": {
            "text/plain": [
              "<Figure size 640x480 with 1 Axes>"
            ],
            "image/png": "[encoded data removed]"
          },
          "metadata": {}
        }
      ]
    },
    {
      "cell_type": "code",
      "source": [
        "plt.figure(figsize=(8,8))\n",
        "sns.barplot(x=\"season_names\",y=\"production\",data=data)\n",
        "plt.xticks(rotation=90)\n",
        "plt.show()"
      ],
      "metadata": {
        "colab": {
          "base_uri": "https://localhost:8080/",
          "height": 778
        },
        "id": "o6q-uChzSSRm",
        "outputId": "401bee68-a94f-41a0-a40f-f6f8eaa9109d"
      },
      "execution_count": null,
      "outputs": [
        {
          "output_type": "display_data",
          "data": {
            "text/plain": [
              "<Figure size 800x800 with 1 Axes>"
            ],
            "image/png": "[encoded data removed]"
          },
          "metadata": {}
        }
      ]
    },
    {
      "cell_type": "code",
      "source": [],
      "metadata": {
        "id": "w0kMTaBk02nK"
      },
      "execution_count": null,
      "outputs": []
    },
    {
      "cell_type": "code",
      "source": [],
      "metadata": {
        "id": "Zqm93YMn02jB"
      },
      "execution_count": null,
      "outputs": []
    },
    {
      "cell_type": "code",
      "source": [],
      "metadata": {
        "id": "4eRfZ-kn02gl"
      },
      "execution_count": null,
      "outputs": []
    },
    {
      "cell_type": "code",
      "source": [],
      "metadata": {
        "id": "R5ueDLaU02ds"
      },
      "execution_count": null,
      "outputs": []
    },
    {
      "cell_type": "code",
      "source": [],
      "metadata": {
        "id": "YzHQOCXm02a_"
      },
      "execution_count": null,
      "outputs": []
    },
    {
      "cell_type": "code",
      "source": [],
      "metadata": {
        "id": "CGw22LOX02YG"
      },
      "execution_count": null,
      "outputs": []
    },
    {
      "cell_type": "code",
      "source": [],
      "metadata": {
        "id": "d0P7e3I_02Va"
      },
      "execution_count": null,
      "outputs": []
    },
    {
      "cell_type": "code",
      "source": [],
      "metadata": {
        "id": "bj78lkay02I7"
      },
      "execution_count": null,
      "outputs": []
    },
    {
      "cell_type": "code",
      "source": [],
      "metadata": {
        "id": "822IxqBw01lU"
      },
      "execution_count": null,
      "outputs": []
    },
    {
      "cell_type": "markdown",
      "source": [
        "BOSTON XGB REGRESSION"
      ],
      "metadata": {
        "id": "Fu3VL9cS_r1j"
      }
    },
    {
      "cell_type": "code",
      "source": [
        "from xgboost import XGBRegressor\n",
        "from sklearn.datasets import fetch_california_housing\n",
        "from sklearn.model_selection import train_test_split\n",
        "from sklearn.model_selection import cross_val_score\n",
        "from sklearn.metrics import mean_squared_error\n",
        "import matplotlib.pyplot as plt"
      ],
      "metadata": {
        "id": "Wqh4e4BP4alI"
      },
      "execution_count": null,
      "outputs": []
    },
    {
      "cell_type": "code",
      "source": [
        "boston = fetch_california_housing()\n",
        "x,y=boston.data, boston.target\n",
        "xtrain, xtest, ytrain, ytest = train_test_split(x, y, test_size=0.15)"
      ],
      "metadata": {
        "id": "K3L5m_yP6_UX"
      },
      "execution_count": null,
      "outputs": []
    },
    {
      "cell_type": "code",
      "source": [
        "xgbr = XGBRegressor(verbosity=0)\n",
        "print(xgbr)"
      ],
      "metadata": {
        "colab": {
          "base_uri": "https://localhost:8080/"
        },
        "id": "PENwtIld7orW",
        "outputId": "d910a1f7-4c75-4d74-9b20-19438a6c11fd"
      },
      "execution_count": null,
      "outputs": [
        {
          "output_type": "stream",
          "name": "stdout",
          "text": [
            "XGBRegressor(base_score=None, booster=None, callbacks=None,\n",
            "             colsample_bylevel=None, colsample_bynode=None,\n",
            "             colsample_bytree=None, early_stopping_rounds=None,\n",
            "             enable_categorical=False, eval_metric=None, feature_types=None,\n",
            "             gamma=None, gpu_id=None, grow_policy=None, importance_type=None,\n",
            "             interaction_constraints=None, learning_rate=None, max_bin=None,\n",
            "             max_cat_threshold=None, max_cat_to_onehot=None,\n",
            "             max_delta_step=None, max_depth=None, max_leaves=None,\n",
            "             min_child_weight=None, missing=nan, monotone_constraints=None,\n",
            "             n_estimators=100, n_jobs=None, num_parallel_tree=None,\n",
            "             predictor=None, random_state=None, ...)\n"
          ]
        }
      ]
    },
    {
      "cell_type": "code",
      "source": [
        "xgbr.fit(xtrain, ytrain)\n",
        "score = xgbr.score(xtrain, ytrain)\n",
        "print(\"Training Score:\",score)\n",
        "print(\"Yield Predictione:\",score*100)"
      ],
      "metadata": {
        "colab": {
          "base_uri": "https://localhost:8080/"
        },
        "id": "uRxQxgmc8QHY",
        "outputId": "e5f28080-32ed-41c6-8ce8-9c6f6ce4cf5f"
      },
      "execution_count": null,
      "outputs": [
        {
          "output_type": "stream",
          "name": "stdout",
          "text": [
            "Training Score: 0.9405717323096523\n",
            "Yield Predictione: 94.05717323096523\n"
          ]
        }
      ]
    },
    {
      "cell_type": "code",
      "source": [
        "cv_score = cross_val_score(xgbr, xtrain, ytrain, cv=10)\n",
        "print(\"Cross Validation main score:\",cv_score.mean())"
      ],
      "metadata": {
        "colab": {
          "base_uri": "https://localhost:8080/"
        },
        "id": "964lddxZ8pDR",
        "outputId": "e7336d4d-1b86-4ea5-8d58-12ad86b95e4c"
      },
      "execution_count": null,
      "outputs": [
        {
          "output_type": "stream",
          "name": "stdout",
          "text": [
            "Cross Validation main score: 0.8313441405382018\n"
          ]
        }
      ]
    },
    {
      "cell_type": "code",
      "source": [
        "x_ax = range(len(ytest))\n",
        "plt.plot(x_ax, ytest, label=\"Yield prediction\")\n",
        "plt.title(\"Boston test and predicted data\")\n",
        "plt.legend()\n",
        "plt.show()"
      ],
      "metadata": {
        "colab": {
          "base_uri": "https://localhost:8080/",
          "height": 452
        },
        "id": "5a1-2gwb-jdx",
        "outputId": "0d170781-34ae-4c4b-a210-2c948e3bb886"
      },
      "execution_count": null,
      "outputs": [
        {
          "output_type": "display_data",
          "data": {
            "text/plain": [
              "<Figure size 640x480 with 1 Axes>"
            ],
            "image/png": "[encoded data removed]"
          },
          "metadata": {}
        }
      ]
    },
    {
      "cell_type": "code",
      "source": [
        "print(\"MSE:\", 8.129667704806542)\n",
        "print(\"RMSE:\", 4.064833852403271)"
      ],
      "metadata": {
        "colab": {
          "base_uri": "https://localhost:8080/"
        },
        "id": "31Mmd9ss-RHS",
        "outputId": "bbe651e5-e50b-4c52-a378-ebc09940a3a2"
      },
      "execution_count": null,
      "outputs": [
        {
          "output_type": "stream",
          "name": "stdout",
          "text": [
            "MSE: 8.129667704806542\n",
            "RMSE: 4.064833852403271\n"
          ]
        }
      ]
    },
    {
      "cell_type": "code",
      "source": [
        "import numpy as np\n",
        "import pandas as pd\n",
        "from sklearn.preprocessing import StandardScaler\n",
        "from sklearn.model_selection import train_test_split\n",
        "from sklearn.linear_model import LogisticRegression\n",
        "from sklearn import  svm\n",
        "from sklearn.metrics import accuracy_score"
      ],
      "metadata": {
        "id": "kpJowPZ5Fbpq"
      },
      "execution_count": null,
      "outputs": []
    },
    {
      "cell_type": "code",
      "source": [
        "# loading the data set to the pandas data frame\n",
        "Crop_yield_data = pd.read_csv('/content/finalised_dataset.csv', header=None)"
      ],
      "metadata": {
        "id": "C5pv2MHGcW5H"
      },
      "execution_count": null,
      "outputs": []
    },
    {
      "cell_type": "code",
      "source": [
        "Crop_yield_data.head()"
      ],
      "metadata": {
        "colab": {
          "base_uri": "https://localhost:8080/",
          "height": 270
        },
        "id": "ill_JlrFcpIL",
        "outputId": "14535748-6f3b-4614-db2e-3158fff06a64"
      },
      "execution_count": null,
      "outputs": [
        {
          "output_type": "execute_result",
          "data": {
            "text/plain": [
              "         0            1               2          3             4           5   \\\n",
              "0       NaN  state_names  district_names  crop_year  season_names  crop_names   \n",
              "1  125192.0  Maharashtra      AHMEDNAGAR       1997   Kharif        Arhar/Tur   \n",
              "2  125193.0  Maharashtra      AHMEDNAGAR       1997   Kharif            Bajra   \n",
              "3  125194.0  Maharashtra      AHMEDNAGAR       1997   Kharif             Gram   \n",
              "4  125195.0  Maharashtra      AHMEDNAGAR       1997   Kharif            Jowar   \n",
              "\n",
              "       6            7            8            9            10         11  \\\n",
              "0    area  temperature   wind_speed     pressure     humidity  soil_type   \n",
              "1   17600  20.16042589  1.976479932  1015.193528  20.64323694      sandy   \n",
              "2  274100   21.9982986   2.00052426  1014.184607  21.42231237       clay   \n",
              "3   40800  21.77637662  2.019749785  1015.053118  21.81056724     chalky   \n",
              "4     900  20.07573361  1.974350686  1015.170238  21.93020582       clay   \n",
              "\n",
              "      12      13     14          15           16  \n",
              "0      N       P      K  production        Yield  \n",
              "1      9       9      0        6300  0.357954545  \n",
              "2      0       0      0      152800  0.557460781  \n",
              "3  38.25   38.25  38.25       18600  0.455882353  \n",
              "4      0  23.184      0        1100  1.222222222  "
            ],
            "text/html": [
              "\n",
              "  <div id=\"df-82b5722c-69f4-4fc8-972a-4bd736e78b5c\">\n",
              "    <div class=\"colab-df-container\">\n",
              "      <div>\n",
              "<style scoped>\n",
              "    .dataframe tbody tr th:only-of-type {\n",
              "        vertical-align: middle;\n",
              "    }\n",
              "\n",
              "    .dataframe tbody tr th {\n",
              "        vertical-align: top;\n",
              "    }\n",
              "\n",
              "    .dataframe thead th {\n",
              "        text-align: right;\n",
              "    }\n",
              "</style>\n",
              "<table border=\"1\" class=\"dataframe\">\n",
              "  <thead>\n",
              "    <tr style=\"text-align: right;\">\n",
              "      <th></th>\n",
              "      <th>0</th>\n",
              "      <th>1</th>\n",
              "      <th>2</th>\n",
              "      <th>3</th>\n",
              "      <th>4</th>\n",
              "      <th>5</th>\n",
              "      <th>6</th>\n",
              "      <th>7</th>\n",
              "      <th>8</th>\n",
              "      <th>9</th>\n",
              "      <th>10</th>\n",
              "      <th>11</th>\n",
              "      <th>12</th>\n",
              "      <th>13</th>\n",
              "      <th>14</th>\n",
              "      <th>15</th>\n",
              "      <th>16</th>\n",
              "    </tr>\n",
              "  </thead>\n",
              "  <tbody>\n",
              "    <tr>\n",
              "      <th>0</th>\n",
              "      <td>NaN</td>\n",
              "      <td>state_names</td>\n",
              "      <td>district_names</td>\n",
              "      <td>crop_year</td>\n",
              "      <td>season_names</td>\n",
              "      <td>crop_names</td>\n",
              "      <td>area</td>\n",
              "      <td>temperature</td>\n",
              "      <td>wind_speed</td>\n",
              "      <td>pressure</td>\n",
              "      <td>humidity</td>\n",
              "      <td>soil_type</td>\n",
              "      <td>N</td>\n",
              "      <td>P</td>\n",
              "      <td>K</td>\n",
              "      <td>production</td>\n",
              "      <td>Yield</td>\n",
              "    </tr>\n",
              "    <tr>\n",
              "      <th>1</th>\n",
              "      <td>125192.0</td>\n",
              "      <td>Maharashtra</td>\n",
              "      <td>AHMEDNAGAR</td>\n",
              "      <td>1997</td>\n",
              "      <td>Kharif</td>\n",
              "      <td>Arhar/Tur</td>\n",
              "      <td>17600</td>\n",
              "      <td>20.16042589</td>\n",
              "      <td>1.976479932</td>\n",
              "      <td>1015.193528</td>\n",
              "      <td>20.64323694</td>\n",
              "      <td>sandy</td>\n",
              "      <td>9</td>\n",
              "      <td>9</td>\n",
              "      <td>0</td>\n",
              "      <td>6300</td>\n",
              "      <td>0.357954545</td>\n",
              "    </tr>\n",
              "    <tr>\n",
              "      <th>2</th>\n",
              "      <td>125193.0</td>\n",
              "      <td>Maharashtra</td>\n",
              "      <td>AHMEDNAGAR</td>\n",
              "      <td>1997</td>\n",
              "      <td>Kharif</td>\n",
              "      <td>Bajra</td>\n",
              "      <td>274100</td>\n",
              "      <td>21.9982986</td>\n",
              "      <td>2.00052426</td>\n",
              "      <td>1014.184607</td>\n",
              "      <td>21.42231237</td>\n",
              "      <td>clay</td>\n",
              "      <td>0</td>\n",
              "      <td>0</td>\n",
              "      <td>0</td>\n",
              "      <td>152800</td>\n",
              "      <td>0.557460781</td>\n",
              "    </tr>\n",
              "    <tr>\n",
              "      <th>3</th>\n",
              "      <td>125194.0</td>\n",
              "      <td>Maharashtra</td>\n",
              "      <td>AHMEDNAGAR</td>\n",
              "      <td>1997</td>\n",
              "      <td>Kharif</td>\n",
              "      <td>Gram</td>\n",
              "      <td>40800</td>\n",
              "      <td>21.77637662</td>\n",
              "      <td>2.019749785</td>\n",
              "      <td>1015.053118</td>\n",
              "      <td>21.81056724</td>\n",
              "      <td>chalky</td>\n",
              "      <td>38.25</td>\n",
              "      <td>38.25</td>\n",
              "      <td>38.25</td>\n",
              "      <td>18600</td>\n",
              "      <td>0.455882353</td>\n",
              "    </tr>\n",
              "    <tr>\n",
              "      <th>4</th>\n",
              "      <td>125195.0</td>\n",
              "      <td>Maharashtra</td>\n",
              "      <td>AHMEDNAGAR</td>\n",
              "      <td>1997</td>\n",
              "      <td>Kharif</td>\n",
              "      <td>Jowar</td>\n",
              "      <td>900</td>\n",
              "      <td>20.07573361</td>\n",
              "      <td>1.974350686</td>\n",
              "      <td>1015.170238</td>\n",
              "      <td>21.93020582</td>\n",
              "      <td>clay</td>\n",
              "      <td>0</td>\n",
              "      <td>23.184</td>\n",
              "      <td>0</td>\n",
              "      <td>1100</td>\n",
              "      <td>1.222222222</td>\n",
              "    </tr>\n",
              "  </tbody>\n",
              "</table>\n",
              "</div>\n",
              "      <button class=\"colab-df-convert\" onclick=\"convertToInteractive('df-82b5722c-69f4-4fc8-972a-4bd736e78b5c')\"\n",
              "              title=\"Convert this dataframe to an interactive table.\"\n",
              "              style=\"display:none;\">\n",
              "        \n",
              "  <svg xmlns=\"http://www.w3.org/2000/svg\" height=\"24px\"viewBox=\"0 0 24 24\"\n",
              "       width=\"24px\">\n",
              "    <path d=\"M0 0h24v24H0V0z\" fill=\"none\"/>\n",
              "    <path d=\"M18.56 5.44l.94 2.06.94-2.06 2.06-.94-2.06-.94-.94-2.06-.94 2.06-2.06.94zm-11 1L8.5 8.5l.94-2.06 2.06-.94-2.06-.94L8.5 2.5l-.94 2.06-2.06.94zm10 10l.94 2.06.94-2.06 2.06-.94-2.06-.94-.94-2.06-.94 2.06-2.06.94z\"/><path d=\"M17.41 7.96l-1.37-1.37c-.4-.4-.92-.59-1.43-.59-.52 0-1.04.2-1.43.59L10.3 9.45l-7.72 7.72c-.78.78-.78 2.05 0 2.83L4 21.41c.39.39.9.59 1.41.59.51 0 1.02-.2 1.41-.59l7.78-7.78 2.81-2.81c.8-.78.8-2.07 0-2.86zM5.41 20L4 18.59l7.72-7.72 1.47 1.35L5.41 20z\"/>\n",
              "  </svg>\n",
              "      </button>\n",
              "      \n",
              "  <style>\n",
              "    .colab-df-container {\n",
              "      display:flex;\n",
              "      flex-wrap:wrap;\n",
              "      gap: 12px;\n",
              "    }\n",
              "\n",
              "    .colab-df-convert {\n",
              "      background-color: #E8F0FE;\n",
              "      border: none;\n",
              "      border-radius: 50%;\n",
              "      cursor: pointer;\n",
              "      display: none;\n",
              "      fill: #1967D2;\n",
              "      height: 32px;\n",
              "      padding: 0 0 0 0;\n",
              "      width: 32px;\n",
              "    }\n",
              "\n",
              "    .colab-df-convert:hover {\n",
              "      background-color: #E2EBFA;\n",
              "      box-shadow: 0px 1px 2px rgba(60, 64, 67, 0.3), 0px 1px 3px 1px rgba(60, 64, 67, 0.15);\n",
              "      fill: #174EA6;\n",
              "    }\n",
              "\n",
              "    [theme=dark] .colab-df-convert {\n",
              "      background-color: #3B4455;\n",
              "      fill: #D2E3FC;\n",
              "    }\n",
              "\n",
              "    [theme=dark] .colab-df-convert:hover {\n",
              "      background-color: #434B5C;\n",
              "      box-shadow: 0px 1px 3px 1px rgba(0, 0, 0, 0.15);\n",
              "      filter: drop-shadow(0px 1px 2px rgba(0, 0, 0, 0.3));\n",
              "      fill: #FFFFFF;\n",
              "    }\n",
              "  </style>\n",
              "\n",
              "      <script>\n",
              "        const buttonEl =\n",
              "          document.querySelector('#df-82b5722c-69f4-4fc8-972a-4bd736e78b5c button.colab-df-convert');\n",
              "        buttonEl.style.display =\n",
              "          google.colab.kernel.accessAllowed ? 'block' : 'none';\n",
              "\n",
              "        async function convertToInteractive(key) {\n",
              "          const element = document.querySelector('#df-82b5722c-69f4-4fc8-972a-4bd736e78b5c');\n",
              "          const dataTable =\n",
              "            await google.colab.kernel.invokeFunction('convertToInteractive',\n",
              "                                                     [key], {});\n",
              "          if (!dataTable) return;\n",
              "\n",
              "          const docLinkHtml = 'Like what you see? Visit the ' +\n",
              "            '<a target=\"_blank\" href=https://colab.research.google.com/notebooks/data_table.ipynb>data table notebook</a>'\n",
              "            + ' to learn more about interactive tables.';\n",
              "          element.innerHTML = '';\n",
              "          dataTable['output_type'] = 'display_data';\n",
              "          await google.colab.output.renderOutput(dataTable, element);\n",
              "          const docLink = document.createElement('div');\n",
              "          docLink.innerHTML = docLinkHtml;\n",
              "          element.appendChild(docLink);\n",
              "        }\n",
              "      </script>\n",
              "    </div>\n",
              "  </div>\n",
              "  "
            ]
          },
          "metadata": {},
          "execution_count": 192
        }
      ]
    },
    {
      "cell_type": "code",
      "source": [
        "# number of rows and columns\n",
        "Crop_yield_data.shape"
      ],
      "metadata": {
        "colab": {
          "base_uri": "https://localhost:8080/"
        },
        "id": "dxixtFtBcw0b",
        "outputId": "00709d72-fdbf-4fdb-a711-c5dad0be3c7c"
      },
      "execution_count": null,
      "outputs": [
        {
          "output_type": "execute_result",
          "data": {
            "text/plain": [
              "(12628, 17)"
            ]
          },
          "metadata": {},
          "execution_count": 193
        }
      ]
    },
    {
      "cell_type": "code",
      "source": [
        "Crop_yield_data.describe() #describe give statistical measure of data"
      ],
      "metadata": {
        "colab": {
          "base_uri": "https://localhost:8080/",
          "height": 300
        },
        "id": "L2BwkPCyc7Y1",
        "outputId": "c0e2aaf6-8802-49cb-a0e7-1183e022b222"
      },
      "execution_count": null,
      "outputs": [
        {
          "output_type": "execute_result",
          "data": {
            "text/plain": [
              "                   0\n",
              "count   12627.000000\n",
              "mean   131505.000000\n",
              "std      3645.245259\n",
              "min    125192.000000\n",
              "25%    128348.500000\n",
              "50%    131505.000000\n",
              "75%    134661.500000\n",
              "max    137818.000000"
            ],
            "text/html": [
              "\n",
              "  <div id=\"df-6f1ef2a9-3769-440d-89fc-85507796185b\">\n",
              "    <div class=\"colab-df-container\">\n",
              "      <div>\n",
              "<style scoped>\n",
              "    .dataframe tbody tr th:only-of-type {\n",
              "        vertical-align: middle;\n",
              "    }\n",
              "\n",
              "    .dataframe tbody tr th {\n",
              "        vertical-align: top;\n",
              "    }\n",
              "\n",
              "    .dataframe thead th {\n",
              "        text-align: right;\n",
              "    }\n",
              "</style>\n",
              "<table border=\"1\" class=\"dataframe\">\n",
              "  <thead>\n",
              "    <tr style=\"text-align: right;\">\n",
              "      <th></th>\n",
              "      <th>0</th>\n",
              "    </tr>\n",
              "  </thead>\n",
              "  <tbody>\n",
              "    <tr>\n",
              "      <th>count</th>\n",
              "      <td>12627.000000</td>\n",
              "    </tr>\n",
              "    <tr>\n",
              "      <th>mean</th>\n",
              "      <td>131505.000000</td>\n",
              "    </tr>\n",
              "    <tr>\n",
              "      <th>std</th>\n",
              "      <td>3645.245259</td>\n",
              "    </tr>\n",
              "    <tr>\n",
              "      <th>min</th>\n",
              "      <td>125192.000000</td>\n",
              "    </tr>\n",
              "    <tr>\n",
              "      <th>25%</th>\n",
              "      <td>128348.500000</td>\n",
              "    </tr>\n",
              "    <tr>\n",
              "      <th>50%</th>\n",
              "      <td>131505.000000</td>\n",
              "    </tr>\n",
              "    <tr>\n",
              "      <th>75%</th>\n",
              "      <td>134661.500000</td>\n",
              "    </tr>\n",
              "    <tr>\n",
              "      <th>max</th>\n",
              "      <td>137818.000000</td>\n",
              "    </tr>\n",
              "  </tbody>\n",
              "</table>\n",
              "</div>\n",
              "      <button class=\"colab-df-convert\" onclick=\"convertToInteractive('df-6f1ef2a9-3769-440d-89fc-85507796185b')\"\n",
              "              title=\"Convert this dataframe to an interactive table.\"\n",
              "              style=\"display:none;\">\n",
              "        \n",
              "  <svg xmlns=\"http://www.w3.org/2000/svg\" height=\"24px\"viewBox=\"0 0 24 24\"\n",
              "       width=\"24px\">\n",
              "    <path d=\"M0 0h24v24H0V0z\" fill=\"none\"/>\n",
              "    <path d=\"M18.56 5.44l.94 2.06.94-2.06 2.06-.94-2.06-.94-.94-2.06-.94 2.06-2.06.94zm-11 1L8.5 8.5l.94-2.06 2.06-.94-2.06-.94L8.5 2.5l-.94 2.06-2.06.94zm10 10l.94 2.06.94-2.06 2.06-.94-2.06-.94-.94-2.06-.94 2.06-2.06.94z\"/><path d=\"M17.41 7.96l-1.37-1.37c-.4-.4-.92-.59-1.43-.59-.52 0-1.04.2-1.43.59L10.3 9.45l-7.72 7.72c-.78.78-.78 2.05 0 2.83L4 21.41c.39.39.9.59 1.41.59.51 0 1.02-.2 1.41-.59l7.78-7.78 2.81-2.81c.8-.78.8-2.07 0-2.86zM5.41 20L4 18.59l7.72-7.72 1.47 1.35L5.41 20z\"/>\n",
              "  </svg>\n",
              "      </button>\n",
              "      \n",
              "  <style>\n",
              "    .colab-df-container {\n",
              "      display:flex;\n",
              "      flex-wrap:wrap;\n",
              "      gap: 12px;\n",
              "    }\n",
              "\n",
              "    .colab-df-convert {\n",
              "      background-color: #E8F0FE;\n",
              "      border: none;\n",
              "      border-radius: 50%;\n",
              "      cursor: pointer;\n",
              "      display: none;\n",
              "      fill: #1967D2;\n",
              "      height: 32px;\n",
              "      padding: 0 0 0 0;\n",
              "      width: 32px;\n",
              "    }\n",
              "\n",
              "    .colab-df-convert:hover {\n",
              "      background-color: #E2EBFA;\n",
              "      box-shadow: 0px 1px 2px rgba(60, 64, 67, 0.3), 0px 1px 3px 1px rgba(60, 64, 67, 0.15);\n",
              "      fill: #174EA6;\n",
              "    }\n",
              "\n",
              "    [theme=dark] .colab-df-convert {\n",
              "      background-color: #3B4455;\n",
              "      fill: #D2E3FC;\n",
              "    }\n",
              "\n",
              "    [theme=dark] .colab-df-convert:hover {\n",
              "      background-color: #434B5C;\n",
              "      box-shadow: 0px 1px 3px 1px rgba(0, 0, 0, 0.15);\n",
              "      filter: drop-shadow(0px 1px 2px rgba(0, 0, 0, 0.3));\n",
              "      fill: #FFFFFF;\n",
              "    }\n",
              "  </style>\n",
              "\n",
              "      <script>\n",
              "        const buttonEl =\n",
              "          document.querySelector('#df-6f1ef2a9-3769-440d-89fc-85507796185b button.colab-df-convert');\n",
              "        buttonEl.style.display =\n",
              "          google.colab.kernel.accessAllowed ? 'block' : 'none';\n",
              "\n",
              "        async function convertToInteractive(key) {\n",
              "          const element = document.querySelector('#df-6f1ef2a9-3769-440d-89fc-85507796185b');\n",
              "          const dataTable =\n",
              "            await google.colab.kernel.invokeFunction('convertToInteractive',\n",
              "                                                     [key], {});\n",
              "          if (!dataTable) return;\n",
              "\n",
              "          const docLinkHtml = 'Like what you see? Visit the ' +\n",
              "            '<a target=\"_blank\" href=https://colab.research.google.com/notebooks/data_table.ipynb>data table notebook</a>'\n",
              "            + ' to learn more about interactive tables.';\n",
              "          element.innerHTML = '';\n",
              "          dataTable['output_type'] = 'display_data';\n",
              "          await google.colab.output.renderOutput(dataTable, element);\n",
              "          const docLink = document.createElement('div');\n",
              "          docLink.innerHTML = docLinkHtml;\n",
              "          element.appendChild(docLink);\n",
              "        }\n",
              "      </script>\n",
              "    </div>\n",
              "  </div>\n",
              "  "
            ]
          },
          "metadata": {},
          "execution_count": 194
        }
      ]
    }
  ]
}